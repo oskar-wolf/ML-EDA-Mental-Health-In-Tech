{
 "cells": [
  {
   "cell_type": "code",
   "execution_count": 3,
   "metadata": {},
   "outputs": [],
   "source": [
    "#import required libraries for initial assesment, pre-processing and EDA\n",
    "import pandas as pd \n",
    "import numpy as np\n",
    "\n",
    "\n",
    "#load dataset\n",
    "df = pd.read_csv(r'C:\\Users\\mrosk\\OneDrive\\Desktop\\Mental-Health-in-Tech\\Dataset\\mental-heath-in-tech-2016_20161114.csv')"
   ]
  },
  {
   "cell_type": "code",
   "execution_count": 4,
   "metadata": {},
   "outputs": [
    {
     "data": {
      "text/plain": [
       "(1433, 63)"
      ]
     },
     "execution_count": 4,
     "metadata": {},
     "output_type": "execute_result"
    }
   ],
   "source": [
    "#rows and columns\n",
    "df.shape"
   ]
  },
  {
   "cell_type": "code",
   "execution_count": 5,
   "metadata": {},
   "outputs": [
    {
     "name": "stdout",
     "output_type": "stream",
     "text": [
      "<class 'pandas.core.frame.DataFrame'>\n",
      "RangeIndex: 1433 entries, 0 to 1432\n",
      "Data columns (total 63 columns):\n",
      " #   Column                                                                                                                                                                            Non-Null Count  Dtype  \n",
      "---  ------                                                                                                                                                                            --------------  -----  \n",
      " 0   Are you self-employed?                                                                                                                                                            1433 non-null   int64  \n",
      " 1   How many employees does your company or organization have?                                                                                                                        1146 non-null   object \n",
      " 2   Is your employer primarily a tech company/organization?                                                                                                                           1146 non-null   float64\n",
      " 3   Is your primary role within your company related to tech/IT?                                                                                                                      263 non-null    float64\n",
      " 4   Does your employer provide mental health benefits as part of healthcare coverage?                                                                                                 1146 non-null   object \n",
      " 5   Do you know the options for mental health care available under your employer-provided coverage?                                                                                   1013 non-null   object \n",
      " 6   Has your employer ever formally discussed mental health (for example, as part of a wellness campaign or other official communication)?                                            1146 non-null   object \n",
      " 7   Does your employer offer resources to learn more about mental health concerns and options for seeking help?                                                                       1146 non-null   object \n",
      " 8   Is your anonymity protected if you choose to take advantage of mental health or substance abuse treatment resources provided by your employer?                                    1146 non-null   object \n",
      " 9   If a mental health issue prompted you to request a medical leave from work, asking for that leave would be:                                                                       1146 non-null   object \n",
      " 10  Do you think that discussing a mental health disorder with your employer would have negative consequences?                                                                        1146 non-null   object \n",
      " 11  Do you think that discussing a physical health issue with your employer would have negative consequences?                                                                         1146 non-null   object \n",
      " 12  Would you feel comfortable discussing a mental health disorder with your coworkers?                                                                                               1146 non-null   object \n",
      " 13  Would you feel comfortable discussing a mental health disorder with your direct supervisor(s)?                                                                                    1146 non-null   object \n",
      " 14  Do you feel that your employer takes mental health as seriously as physical health?                                                                                               1146 non-null   object \n",
      " 15  Have you heard of or observed negative consequences for co-workers who have been open about mental health issues in your workplace?                                               1146 non-null   object \n",
      " 16  Do you have medical coverage (private insurance or state-provided) which includes treatment of  mental health issues?                                                             287 non-null    float64\n",
      " 17  Do you know local or online resources to seek help for a mental health disorder?                                                                                                  287 non-null    object \n",
      " 18  If you have been diagnosed or treated for a mental health disorder, do you ever reveal this to clients or business contacts?                                                      287 non-null    object \n",
      " 19  If you have revealed a mental health issue to a client or business contact, do you believe this has impacted you negatively?                                                      144 non-null    object \n",
      " 20  If you have been diagnosed or treated for a mental health disorder, do you ever reveal this to coworkers or employees?                                                            287 non-null    object \n",
      " 21  If you have revealed a mental health issue to a coworker or employee, do you believe this has impacted you negatively?                                                            287 non-null    object \n",
      " 22  Do you believe your productivity is ever affected by a mental health issue?                                                                                                       287 non-null    object \n",
      " 23  If yes, what percentage of your work time (time performing primary or secondary job functions) is affected by a mental health issue?                                              204 non-null    object \n",
      " 24  Do you have previous employers?                                                                                                                                                   1433 non-null   int64  \n",
      " 25  Have your previous employers provided mental health benefits?                                                                                                                     1264 non-null   object \n",
      " 26  Were you aware of the options for mental health care provided by your previous employers?                                                                                         1264 non-null   object \n",
      " 27  Did your previous employers ever formally discuss mental health (as part of a wellness campaign or other official communication)?                                                 1264 non-null   object \n",
      " 28  Did your previous employers provide resources to learn more about mental health issues and how to seek help?                                                                      1264 non-null   object \n",
      " 29  Was your anonymity protected if you chose to take advantage of mental health or substance abuse treatment resources with previous employers?                                      1264 non-null   object \n",
      " 30  Do you think that discussing a mental health disorder with previous employers would have negative consequences?                                                                   1264 non-null   object \n",
      " 31  Do you think that discussing a physical health issue with previous employers would have negative consequences?                                                                    1264 non-null   object \n",
      " 32  Would you have been willing to discuss a mental health issue with your previous co-workers?                                                                                       1264 non-null   object \n",
      " 33  Would you have been willing to discuss a mental health issue with your direct supervisor(s)?                                                                                      1264 non-null   object \n",
      " 34  Did you feel that your previous employers took mental health as seriously as physical health?                                                                                     1264 non-null   object \n",
      " 35  Did you hear of or observe negative consequences for co-workers with mental health issues in your previous workplaces?                                                            1264 non-null   object \n",
      " 36  Would you be willing to bring up a physical health issue with a potential employer in an interview?                                                                               1433 non-null   object \n",
      " 37  Why or why not?                                                                                                                                                                   1095 non-null   object \n",
      " 38  Would you bring up a mental health issue with a potential employer in an interview?                                                                                               1433 non-null   object \n",
      " 39  Why or why not?.1                                                                                                                                                                 1126 non-null   object \n",
      " 40  Do you feel that being identified as a person with a mental health issue would hurt your career?                                                                                  1433 non-null   object \n",
      " 41  Do you think that team members/co-workers would view you more negatively if they knew you suffered from a mental health issue?                                                    1433 non-null   object \n",
      " 42  How willing would you be to share with friends and family that you have a mental illness?                                                                                         1433 non-null   object \n",
      " 43  Have you observed or experienced an unsupportive or badly handled response to a mental health issue in your current or previous workplace?                                        1344 non-null   object \n",
      " 44  Have your observations of how another individual who discussed a mental health disorder made you less likely to reveal a mental health issue yourself in your current workplace?  657 non-null    object \n",
      " 45  Do you have a family history of mental illness?                                                                                                                                   1433 non-null   object \n",
      " 46  Have you had a mental health disorder in the past?                                                                                                                                1433 non-null   object \n",
      " 47  Do you currently have a mental health disorder?                                                                                                                                   1433 non-null   object \n",
      " 48  If yes, what condition(s) have you been diagnosed with?                                                                                                                           568 non-null    object \n",
      " 49  If maybe, what condition(s) do you believe you have?                                                                                                                              322 non-null    object \n",
      " 50  Have you been diagnosed with a mental health condition by a medical professional?                                                                                                 1433 non-null   object \n",
      " 51  If so, what condition(s) were you diagnosed with?                                                                                                                                 711 non-null    object \n",
      " 52  Have you ever sought treatment for a mental health issue from a mental health professional?                                                                                       1433 non-null   int64  \n",
      " 53  If you have a mental health issue, do you feel that it interferes with your work when being treated effectively?                                                                  1433 non-null   object \n",
      " 54  If you have a mental health issue, do you feel that it interferes with your work when NOT being treated effectively?                                                              1433 non-null   object \n",
      " 55  What is your age?                                                                                                                                                                 1433 non-null   int64  \n",
      " 56  What is your gender?                                                                                                                                                              1430 non-null   object \n",
      " 57  What country do you live in?                                                                                                                                                      1433 non-null   object \n",
      " 58  What US state or territory do you live in?                                                                                                                                        840 non-null    object \n",
      " 59  What country do you work in?                                                                                                                                                      1433 non-null   object \n",
      " 60  What US state or territory do you work in?                                                                                                                                        851 non-null    object \n",
      " 61  Which of the following best describes your work position?                                                                                                                         1433 non-null   object \n",
      " 62  Do you work remotely?                                                                                                                                                             1433 non-null   object \n",
      "dtypes: float64(3), int64(4), object(56)\n",
      "memory usage: 705.4+ KB\n"
     ]
    }
   ],
   "source": [
    "#number of non-null entries and data type\n",
    "df.info()"
   ]
  },
  {
   "cell_type": "code",
   "execution_count": 6,
   "metadata": {},
   "outputs": [
    {
     "data": {
      "text/plain": [
       "Are you self-employed?                                                                  0\n",
       "How many employees does your company or organization have?                            287\n",
       "Is your employer primarily a tech company/organization?                               287\n",
       "Is your primary role within your company related to tech/IT?                         1170\n",
       "Does your employer provide mental health benefits as part of healthcare coverage?     287\n",
       "                                                                                     ... \n",
       "What US state or territory do you live in?                                            593\n",
       "What country do you work in?                                                            0\n",
       "What US state or territory do you work in?                                            582\n",
       "Which of the following best describes your work position?                               0\n",
       "Do you work remotely?                                                                   0\n",
       "Length: 63, dtype: int64"
      ]
     },
     "execution_count": 6,
     "metadata": {},
     "output_type": "execute_result"
    }
   ],
   "source": [
    "# total number of null entries\n",
    "df.isnull().sum()"
   ]
  },
  {
   "cell_type": "code",
   "execution_count": 7,
   "metadata": {},
   "outputs": [
    {
     "data": {
      "text/html": [
       "<div>\n",
       "<style scoped>\n",
       "    .dataframe tbody tr th:only-of-type {\n",
       "        vertical-align: middle;\n",
       "    }\n",
       "\n",
       "    .dataframe tbody tr th {\n",
       "        vertical-align: top;\n",
       "    }\n",
       "\n",
       "    .dataframe thead th {\n",
       "        text-align: right;\n",
       "    }\n",
       "</style>\n",
       "<table border=\"1\" class=\"dataframe\">\n",
       "  <thead>\n",
       "    <tr style=\"text-align: right;\">\n",
       "      <th></th>\n",
       "      <th>0</th>\n",
       "    </tr>\n",
       "  </thead>\n",
       "  <tbody>\n",
       "    <tr>\n",
       "      <th>If you have revealed a mental health issue to a client or business contact, do you believe this has impacted you negatively?</th>\n",
       "      <td>89.951151</td>\n",
       "    </tr>\n",
       "    <tr>\n",
       "      <th>If yes, what percentage of your work time (time performing primary or secondary job functions) is affected by a mental health issue?</th>\n",
       "      <td>85.764131</td>\n",
       "    </tr>\n",
       "    <tr>\n",
       "      <th>Is your primary role within your company related to tech/IT?</th>\n",
       "      <td>81.646895</td>\n",
       "    </tr>\n",
       "    <tr>\n",
       "      <th>Do you know local or online resources to seek help for a mental health disorder?</th>\n",
       "      <td>79.972087</td>\n",
       "    </tr>\n",
       "    <tr>\n",
       "      <th>Do you have medical coverage (private insurance or state-provided) which includes treatment of  mental health issues?</th>\n",
       "      <td>79.972087</td>\n",
       "    </tr>\n",
       "    <tr>\n",
       "      <th>...</th>\n",
       "      <td>...</td>\n",
       "    </tr>\n",
       "    <tr>\n",
       "      <th>Do you feel that being identified as a person with a mental health issue would hurt your career?</th>\n",
       "      <td>0.000000</td>\n",
       "    </tr>\n",
       "    <tr>\n",
       "      <th>Would you bring up a mental health issue with a potential employer in an interview?</th>\n",
       "      <td>0.000000</td>\n",
       "    </tr>\n",
       "    <tr>\n",
       "      <th>Would you be willing to bring up a physical health issue with a potential employer in an interview?</th>\n",
       "      <td>0.000000</td>\n",
       "    </tr>\n",
       "    <tr>\n",
       "      <th>Do you have previous employers?</th>\n",
       "      <td>0.000000</td>\n",
       "    </tr>\n",
       "    <tr>\n",
       "      <th>Do you work remotely?</th>\n",
       "      <td>0.000000</td>\n",
       "    </tr>\n",
       "  </tbody>\n",
       "</table>\n",
       "<p>63 rows × 1 columns</p>\n",
       "</div>"
      ],
      "text/plain": [
       "                                                            0\n",
       "If you have revealed a mental health issue to a...  89.951151\n",
       "If yes, what percentage of your work time (time...  85.764131\n",
       "Is your primary role within your company relate...  81.646895\n",
       "Do you know local or online resources to seek h...  79.972087\n",
       "Do you have medical coverage (private insurance...  79.972087\n",
       "...                                                       ...\n",
       "Do you feel that being identified as a person w...   0.000000\n",
       "Would you bring up a mental health issue with a...   0.000000\n",
       "Would you be willing to bring up a physical hea...   0.000000\n",
       "Do you have previous employers?                      0.000000\n",
       "Do you work remotely?                                0.000000\n",
       "\n",
       "[63 rows x 1 columns]"
      ]
     },
     "execution_count": 7,
     "metadata": {},
     "output_type": "execute_result"
    }
   ],
   "source": [
    "#percentage of each feature based on sum of null values\n",
    "null_perc = pd.DataFrame(df.isnull().sum()/df.shape[0]*100)\n",
    "null_perc = null_perc.sort_values(by=0, ascending=False)\n",
    "null_perc"
   ]
  },
  {
   "cell_type": "code",
   "execution_count": 8,
   "metadata": {},
   "outputs": [],
   "source": [
    "#drop columns with >80% null, imuputation would be speculative and introduce significant bias, information from created spreadsheet on null percentages\n",
    "df = df.drop(columns = ['Is your primary role within your company related to tech/IT?'])"
   ]
  },
  {
   "cell_type": "code",
   "execution_count": 9,
   "metadata": {},
   "outputs": [
    {
     "name": "stdout",
     "output_type": "stream",
     "text": [
      "204\n",
      "1229\n"
     ]
    }
   ],
   "source": [
    "print(df['If yes, what percentage of your work time (time performing primary or secondary job functions) is affected by a mental health issue?'].value_counts().sum())\n",
    "print(df['If yes, what percentage of your work time (time performing primary or secondary job functions) is affected by a mental health issue?'].isnull().sum())"
   ]
  },
  {
   "cell_type": "code",
   "execution_count": 10,
   "metadata": {},
   "outputs": [
    {
     "name": "stdout",
     "output_type": "stream",
     "text": [
      "HOWERVER A SUBEST OF DATA CAN BE APPLIED TO SELF-EMPOLYED = 1\n"
     ]
    }
   ],
   "source": [
    "#df_self_employ = df[df['Are you self-employed?']== 1]\n",
    "# dropping this information but can be used on subset of self employed\n",
    "#df = df.drop(columns = ['Do you know local or online resources to seek help for a mental health disorder?',\n",
    "#                   'Do you have medical coverage (private insurance or state-provided) which includes treatment of  mental health issues?',\n",
    "#                   'If you have been diagnosed or treated for a mental health disorder, do you ever reveal this to clients or business contacts?',\n",
    "#                   'If you have revealed a mental health issue to a client or business contact, do you believe this has impacted you negatively?',\n",
    "#                   'If you have revealed a mental health issue to a coworker or employee, do you believe this has impacted you negatively?',\n",
    "#                   'If you have been diagnosed or treated for a mental health disorder, do you ever reveal this to coworkers or employees?',\n",
    "#                   'Do you believe your productivity is ever affected by a mental health issue?',\n",
    "#                   'If yes, what percentage of your work time (time performing primary or secondary job functions) is affected by a mental health issue?'\n",
    "#                   ]\n",
    "#                   )\n",
    "\n",
    "print('HOWERVER A SUBEST OF DATA CAN BE APPLIED TO SELF-EMPOLYED = 1')"
   ]
  },
  {
   "cell_type": "code",
   "execution_count": 11,
   "metadata": {},
   "outputs": [
    {
     "name": "stdout",
     "output_type": "stream",
     "text": [
      "1344\n",
      "89\n",
      "Have you observed or experienced an unsupportive or badly handled response to a mental health issue in your current or previous workplace?\n",
      "No                    567\n",
      "Maybe/Not sure        346\n",
      "Yes, I observed       264\n",
      "Yes, I experienced    167\n",
      "Name: count, dtype: int64\n"
     ]
    }
   ],
   "source": [
    "print(df['Have you observed or experienced an unsupportive or badly handled response to a mental health issue in your current or previous workplace?'].value_counts().sum())\n",
    "print(df['Have you observed or experienced an unsupportive or badly handled response to a mental health issue in your current or previous workplace?'].isnull().sum())\n",
    "print(df['Have you observed or experienced an unsupportive or badly handled response to a mental health issue in your current or previous workplace?'].value_counts())"
   ]
  },
  {
   "cell_type": "code",
   "execution_count": 12,
   "metadata": {},
   "outputs": [
    {
     "name": "stdout",
     "output_type": "stream",
     "text": [
      "1433\n",
      "0\n",
      "Have you observed or experienced an unsupportive or badly handled response to a mental health issue in your current or previous workplace?\n",
      "No                    567\n",
      "Maybe/Not sure        346\n",
      "Yes, I observed       264\n",
      "Yes, I experienced    167\n",
      "N/A                    89\n",
      "Name: count, dtype: int64\n"
     ]
    }
   ],
   "source": [
    "df['Have you observed or experienced an unsupportive or badly handled response to a mental health issue in your current or previous workplace?'] = df['Have you observed or experienced an unsupportive or badly handled response to a mental health issue in your current or previous workplace?'].fillna('N/A')\n",
    "print(df['Have you observed or experienced an unsupportive or badly handled response to a mental health issue in your current or previous workplace?'].value_counts().sum())\n",
    "print(df['Have you observed or experienced an unsupportive or badly handled response to a mental health issue in your current or previous workplace?'].isnull().sum())\n",
    "print(df['Have you observed or experienced an unsupportive or badly handled response to a mental health issue in your current or previous workplace?'].value_counts())"
   ]
  },
  {
   "cell_type": "code",
   "execution_count": 13,
   "metadata": {},
   "outputs": [
    {
     "name": "stdout",
     "output_type": "stream",
     "text": [
      "746\n",
      "687\n"
     ]
    }
   ],
   "source": [
    "#print(df['Have your observations of how another individual who discussed a mental health disorder made you less likely to reveal a mental health issue yourself in your current workplace?'].value_counts().sum()/1433)\n",
    "#drop column with >50% null vaues, imuputation would be speculative and introduce significant bias, information from created spreadsheet on null percentages\n",
    "#df = df.drop(columns='Have your observations of how another individual who discussed a mental health disorder made you less likely to reveal a mental health issue yourself in your current workplace?')\n",
    "#print(\"I CAN INFER AND IMPUTE FROM PREVIOUS QUESTION,  BASED ON 'No' or 'N/A' ANSWER TO 'NO' \")\n",
    "\n",
    "def impute(row):\n",
    "    if pd.isnull(row['Have your observations of how another individual who discussed a mental health disorder made you less likely to reveal a mental health issue yourself in your current workplace?']) and row['Have you observed or experienced an unsupportive or badly handled response to a mental health issue in your current or previous workplace?'] == 'N/A':\n",
    "        return 'N/A'\n",
    "    else:\n",
    "        return row['Have your observations of how another individual who discussed a mental health disorder made you less likely to reveal a mental health issue yourself in your current workplace?']\n",
    "\n",
    "df['Have your observations of how another individual who discussed a mental health disorder made you less likely to reveal a mental health issue yourself in your current workplace?'] = df.apply(impute,axis=1)\n",
    "\n",
    "print(df['Have your observations of how another individual who discussed a mental health disorder made you less likely to reveal a mental health issue yourself in your current workplace?'].value_counts().sum())\n",
    "print(df['Have your observations of how another individual who discussed a mental health disorder made you less likely to reveal a mental health issue yourself in your current workplace?'].isnull().sum())"
   ]
  },
  {
   "cell_type": "code",
   "execution_count": 14,
   "metadata": {},
   "outputs": [
    {
     "name": "stdout",
     "output_type": "stream",
     "text": [
      "1313\n",
      "120\n"
     ]
    }
   ],
   "source": [
    "def impute(row):\n",
    "    if pd.isnull(row['Have your observations of how another individual who discussed a mental health disorder made you less likely to reveal a mental health issue yourself in your current workplace?']) and row['Have you observed or experienced an unsupportive or badly handled response to a mental health issue in your current or previous workplace?'] == 'No':\n",
    "        return 'N/A'\n",
    "    else:\n",
    "        return row['Have your observations of how another individual who discussed a mental health disorder made you less likely to reveal a mental health issue yourself in your current workplace?']\n",
    "\n",
    "df['Have your observations of how another individual who discussed a mental health disorder made you less likely to reveal a mental health issue yourself in your current workplace?'] = df.apply(impute,axis=1)\n",
    "\n",
    "print(df['Have your observations of how another individual who discussed a mental health disorder made you less likely to reveal a mental health issue yourself in your current workplace?'].value_counts().sum())\n",
    "print(df['Have your observations of how another individual who discussed a mental health disorder made you less likely to reveal a mental health issue yourself in your current workplace?'].isnull().sum())"
   ]
  },
  {
   "cell_type": "code",
   "execution_count": 15,
   "metadata": {},
   "outputs": [
    {
     "name": "stdout",
     "output_type": "stream",
     "text": [
      "1433\n",
      "0\n",
      "Have you observed or experienced an unsupportive or badly handled response to a mental health issue in your current or previous workplace?\n",
      "No                    567\n",
      "Maybe/Not sure        346\n",
      "Yes, I observed       264\n",
      "Yes, I experienced    167\n",
      "N/A                    89\n",
      "Name: count, dtype: int64\n"
     ]
    }
   ],
   "source": [
    "print(df['Have you observed or experienced an unsupportive or badly handled response to a mental health issue in your current or previous workplace?'].value_counts().sum())\n",
    "print(df['Have you observed or experienced an unsupportive or badly handled response to a mental health issue in your current or previous workplace?'].isnull().sum())\n",
    "print(df['Have you observed or experienced an unsupportive or badly handled response to a mental health issue in your current or previous workplace?'].value_counts())"
   ]
  },
  {
   "cell_type": "code",
   "execution_count": 16,
   "metadata": {},
   "outputs": [
    {
     "name": "stdout",
     "output_type": "stream",
     "text": [
      "1433\n",
      "0\n",
      "Have your observations of how another individual who discussed a mental health disorder made you less likely to reveal a mental health issue yourself in your current workplace?\n",
      "N/A      776\n",
      "Yes      246\n",
      "No       234\n",
      "Maybe    177\n",
      "Name: count, dtype: int64\n"
     ]
    }
   ],
   "source": [
    "df['Have your observations of how another individual who discussed a mental health disorder made you less likely to reveal a mental health issue yourself in your current workplace?'] = df['Have your observations of how another individual who discussed a mental health disorder made you less likely to reveal a mental health issue yourself in your current workplace?'].fillna('N/A')\n",
    "\n",
    "print(df['Have your observations of how another individual who discussed a mental health disorder made you less likely to reveal a mental health issue yourself in your current workplace?'].value_counts().sum())\n",
    "print(df['Have your observations of how another individual who discussed a mental health disorder made you less likely to reveal a mental health issue yourself in your current workplace?'].isnull().sum())\n",
    "print(df['Have your observations of how another individual who discussed a mental health disorder made you less likely to reveal a mental health issue yourself in your current workplace?'].value_counts())\n",
    "\n"
   ]
  },
  {
   "cell_type": "code",
   "execution_count": 17,
   "metadata": {},
   "outputs": [
    {
     "data": {
      "text/plain": [
       "0.9818562456385206"
      ]
     },
     "execution_count": 17,
     "metadata": {},
     "output_type": "execute_result"
    }
   ],
   "source": [
    "#only 1.9% of respondents work outside country of residence\n",
    "exact_match_ratio = (df['What country do you live in?'] == df['What country do you work in?']).mean()\n",
    "exact_match_ratio"
   ]
  },
  {
   "cell_type": "code",
   "execution_count": 18,
   "metadata": {},
   "outputs": [
    {
     "name": "stdout",
     "output_type": "stream",
     "text": [
      "0.9795918367346939\n",
      "0.9272727272727272\n"
     ]
    }
   ],
   "source": [
    "#Similarity of US_Work_State and US_Live_State / Similarity of Country_Work_State and Country_Live_State\n",
    "def jaccard_similarity(col1, col2):\n",
    "    intersection = len(set(col1) & set(col2))\n",
    "    union = len(set(col1) | set(col2))\n",
    "    return intersection / union\n",
    "\n",
    "print(jaccard_similarity(df['What US state or territory do you live in?'],df['What US state or territory do you work in?']))\n",
    "print(jaccard_similarity(df['What country do you work in?'],df['What country do you live in?']))\n",
    "\n",
    "#2.05% of US respondents work outside their state of residence\n",
    "#7.28% of respondents work outside their country of residence"
   ]
  },
  {
   "cell_type": "code",
   "execution_count": 19,
   "metadata": {},
   "outputs": [
    {
     "data": {
      "text/plain": [
       "What country do you live in?\n",
       "United States of America    840\n",
       "United Kingdom              180\n",
       "Canada                       78\n",
       "Germany                      58\n",
       "Netherlands                  48\n",
       "Australia                    35\n",
       "Sweden                       19\n",
       "France                       16\n",
       "Ireland                      15\n",
       "Switzerland                  10\n",
       "Brazil                       10\n",
       "New Zealand                   9\n",
       "India                         9\n",
       "Russia                        9\n",
       "Bulgaria                      7\n",
       "Finland                       7\n",
       "Denmark                       7\n",
       "Italy                         5\n",
       "Belgium                       5\n",
       "South Africa                  4\n",
       "Romania                       4\n",
       "Spain                         4\n",
       "Poland                        4\n",
       "Austria                       4\n",
       "Norway                        3\n",
       "Pakistan                      3\n",
       "Chile                         3\n",
       "Czech Republic                3\n",
       "Japan                         2\n",
       "Israel                        2\n",
       "Other                         2\n",
       "Bosnia and Herzegovina        2\n",
       "Afghanistan                   2\n",
       "Estonia                       2\n",
       "Mexico                        2\n",
       "Colombia                      2\n",
       "Lithuania                     2\n",
       "Algeria                       1\n",
       "Serbia                        1\n",
       "Taiwan                        1\n",
       "Guatemala                     1\n",
       "China                         1\n",
       "Venezuela                     1\n",
       "Ecuador                       1\n",
       "Hungary                       1\n",
       "Bangladesh                    1\n",
       "Iran                          1\n",
       "Argentina                     1\n",
       "Brunei                        1\n",
       "Vietnam                       1\n",
       "Greece                        1\n",
       "Slovakia                      1\n",
       "Costa Rica                    1\n",
       "Name: count, dtype: int64"
      ]
     },
     "execution_count": 19,
     "metadata": {},
     "output_type": "execute_result"
    }
   ],
   "source": [
    "df['What country do you live in?'].value_counts()"
   ]
  },
  {
   "cell_type": "code",
   "execution_count": 20,
   "metadata": {},
   "outputs": [
    {
     "data": {
      "text/plain": [
       "What country do you work in?\n",
       "United States of America    851\n",
       "United Kingdom              183\n",
       "Canada                       74\n",
       "Germany                      58\n",
       "Netherlands                  47\n",
       "Australia                    34\n",
       "Sweden                       20\n",
       "Ireland                      15\n",
       "France                       14\n",
       "Switzerland                  10\n",
       "Brazil                       10\n",
       "India                         9\n",
       "Russia                        9\n",
       "New Zealand                   9\n",
       "Denmark                       7\n",
       "Bulgaria                      7\n",
       "Finland                       7\n",
       "Belgium                       5\n",
       "South Africa                  4\n",
       "Poland                        4\n",
       "Austria                       4\n",
       "Czech Republic                3\n",
       "Italy                         3\n",
       "Chile                         3\n",
       "Norway                        3\n",
       "Romania                       3\n",
       "Spain                         3\n",
       "Other                         2\n",
       "Bosnia and Herzegovina        2\n",
       "Afghanistan                   2\n",
       "Pakistan                      2\n",
       "Israel                        2\n",
       "Estonia                       2\n",
       "Colombia                      2\n",
       "Mexico                        2\n",
       "Slovakia                      1\n",
       "United Arab Emirates          1\n",
       "Serbia                        1\n",
       "Guatemala                     1\n",
       "Lithuania                     1\n",
       "China                         1\n",
       "Venezuela                     1\n",
       "Ecuador                       1\n",
       "Japan                         1\n",
       "Hungary                       1\n",
       "Vietnam                       1\n",
       "Iran                          1\n",
       "Brunei                        1\n",
       "Argentina                     1\n",
       "Greece                        1\n",
       "Costa Rica                    1\n",
       "Bangladesh                    1\n",
       "Turkey                        1\n",
       "Name: count, dtype: int64"
      ]
     },
     "execution_count": 20,
     "metadata": {},
     "output_type": "execute_result"
    }
   ],
   "source": [
    "df['What country do you work in?'].value_counts()"
   ]
  },
  {
   "cell_type": "code",
   "execution_count": 21,
   "metadata": {},
   "outputs": [
    {
     "data": {
      "text/plain": [
       "0.5938590369853455"
      ]
     },
     "execution_count": 21,
     "metadata": {},
     "output_type": "execute_result"
    }
   ],
   "source": [
    "#59.39% respondents work in USA\n",
    "851/1433"
   ]
  },
  {
   "cell_type": "code",
   "execution_count": 22,
   "metadata": {},
   "outputs": [
    {
     "name": "stdout",
     "output_type": "stream",
     "text": [
      "THIS SHOULD BE USED TO CREATE A SUBSET AFTER NOMRALIZATION AND STANDARIZATION OF WHOLE DATA SET EXCLUDING STATES\n"
     ]
    }
   ],
   "source": [
    "#Since 59.39% respondents work in USA, Create new filtered DataFrame.\n",
    "#df_usa = df[df['What country do you work in?']=='United States of America']\n",
    "\n",
    "print(\"THIS SHOULD BE USED TO CREATE A SUBSET AFTER NOMRALIZATION AND STANDARIZATION OF WHOLE DATA SET EXCLUDING STATES\")"
   ]
  },
  {
   "cell_type": "code",
   "execution_count": 23,
   "metadata": {},
   "outputs": [
    {
     "name": "stdout",
     "output_type": "stream",
     "text": [
      "JUST FOR NOW WHILE PREPROCSSECING OTHER FEATURES\n"
     ]
    }
   ],
   "source": [
    "#drop USA states from global DataFrame\n",
    "#df = df.drop(columns=['What US state or territory do you work in?','What US state or territory do you live in?'])\n",
    "print(\"JUST FOR NOW WHILE PREPROCSSECING OTHER FEATURES\")"
   ]
  },
  {
   "cell_type": "code",
   "execution_count": 24,
   "metadata": {},
   "outputs": [
    {
     "data": {
      "text/plain": [
       "How many employees does your company or organization have?\n",
       "26-100            292\n",
       "More than 1000    256\n",
       "100-500           248\n",
       "6-25              210\n",
       "500-1000           80\n",
       "1-5                60\n",
       "Name: count, dtype: int64"
      ]
     },
     "execution_count": 24,
     "metadata": {},
     "output_type": "execute_result"
    }
   ],
   "source": [
    "df['How many employees does your company or organization have?'].value_counts()"
   ]
  },
  {
   "cell_type": "code",
   "execution_count": 25,
   "metadata": {},
   "outputs": [
    {
     "name": "stdout",
     "output_type": "stream",
     "text": [
      "0\n"
     ]
    }
   ],
   "source": [
    "#The values missing from this column are due to respondent being self employed, therefore null imputed to 1.  \n",
    "def impute_employees(row):\n",
    "    if pd.isnull(row['How many employees does your company or organization have?'])and row['Are you self-employed?'] == 1:\n",
    "        return '1'\n",
    "    else:\n",
    "        return row['How many employees does your company or organization have?']\n",
    "\n",
    "df['How many employees does your company or organization have?'] = df.apply(impute_employees, axis=1)\n",
    "\n",
    "print(df['How many employees does your company or organization have?'].isnull().sum())"
   ]
  },
  {
   "cell_type": "code",
   "execution_count": 26,
   "metadata": {},
   "outputs": [
    {
     "name": "stdout",
     "output_type": "stream",
     "text": [
      "287\n",
      "0\n"
     ]
    }
   ],
   "source": [
    "#The values missing from this column are due to respondent being self employed, therefore null imputed to 0.5 for 'Free-Lancer'  \n",
    "print(df['Is your employer primarily a tech company/organization?'].isnull().sum())\n",
    "\n",
    "def impute_tech_company(row):\n",
    "    if pd.isnull(row['Is your employer primarily a tech company/organization?']) and row['Are you self-employed?'] == 1:\n",
    "        return 0.5\n",
    "    else:\n",
    "        return row['Is your employer primarily a tech company/organization?']\n",
    "\n",
    "df['Is your employer primarily a tech company/organization?'] = df.apply(impute_tech_company, axis=1)\n",
    "\n",
    "print(df['Is your employer primarily a tech company/organization?'].isnull().sum())"
   ]
  },
  {
   "cell_type": "code",
   "execution_count": 27,
   "metadata": {},
   "outputs": [
    {
     "name": "stdout",
     "output_type": "stream",
     "text": [
      "Have you heard of or observed negative consequences for co-workers who have been open about mental health issues in your workplace?\n",
      "No     1048\n",
      "Yes      98\n",
      "Name: count, dtype: int64\n",
      "287\n"
     ]
    }
   ],
   "source": [
    "print(df['Have you heard of or observed negative consequences for co-workers who have been open about mental health issues in your workplace?'].value_counts())\n",
    "\n",
    "print(df['Have you heard of or observed negative consequences for co-workers who have been open about mental health issues in your workplace?'].isnull().sum())"
   ]
  },
  {
   "cell_type": "code",
   "execution_count": 28,
   "metadata": {},
   "outputs": [
    {
     "name": "stdout",
     "output_type": "stream",
     "text": [
      "0\n"
     ]
    }
   ],
   "source": [
    "#The values missing from this column are due to respondent being self employed, therefore null imputed to 'N/A'\n",
    "def impute_coverage(row):\n",
    "    if pd.isnull(row['Does your employer provide mental health benefits as part of healthcare coverage?']) and row['Are you self-employed?'] == 1:\n",
    "        return 'N/A'\n",
    "    else:\n",
    "        return row['Does your employer provide mental health benefits as part of healthcare coverage?']\n",
    "\n",
    "df['Does your employer provide mental health benefits as part of healthcare coverage?'] = df.apply(impute_coverage,axis=1)\n",
    "\n",
    "print(df['Does your employer provide mental health benefits as part of healthcare coverage?'].isnull().sum())"
   ]
  },
  {
   "cell_type": "code",
   "execution_count": 29,
   "metadata": {},
   "outputs": [
    {
     "name": "stdout",
     "output_type": "stream",
     "text": [
      "0\n"
     ]
    }
   ],
   "source": [
    "#The values missing from this column are due to respondent being self employed, therefore null imputed to 'Not eligible for coverage / N/A'\n",
    "def impute_discuss(row):\n",
    "    if pd.isnull(row['Has your employer ever formally discussed mental health (for example, as part of a wellness campaign or other official communication)?']) and row['Are you self-employed?'] == 1:\n",
    "        return \"N/A\"\n",
    "    else:\n",
    "        return row['Has your employer ever formally discussed mental health (for example, as part of a wellness campaign or other official communication)?']\n",
    "\n",
    "df['Has your employer ever formally discussed mental health (for example, as part of a wellness campaign or other official communication)?'] = df.apply(impute_discuss,axis=1)\n",
    "\n",
    "print(df['Has your employer ever formally discussed mental health (for example, as part of a wellness campaign or other official communication)?'].isnull().sum())"
   ]
  },
  {
   "cell_type": "code",
   "execution_count": 30,
   "metadata": {},
   "outputs": [
    {
     "name": "stdout",
     "output_type": "stream",
     "text": [
      "0\n"
     ]
    }
   ],
   "source": [
    "#The values missing from this column are due to respondent being self employed, therefore null imputed to 'Not eligible for coverage / N/A'\n",
    "def impute_resources(row):\n",
    "    if pd.isnull(row['Does your employer offer resources to learn more about mental health concerns and options for seeking help?']) and row['Are you self-employed?'] == 1:\n",
    "        return \"N/A\"\n",
    "    else:\n",
    "        return row['Does your employer offer resources to learn more about mental health concerns and options for seeking help?']\n",
    "\n",
    "df['Does your employer offer resources to learn more about mental health concerns and options for seeking help?'] = df.apply(impute_resources,axis=1)\n",
    "\n",
    "print(df['Does your employer offer resources to learn more about mental health concerns and options for seeking help?'].isnull().sum())"
   ]
  },
  {
   "cell_type": "code",
   "execution_count": 31,
   "metadata": {},
   "outputs": [
    {
     "name": "stdout",
     "output_type": "stream",
     "text": [
      "0\n"
     ]
    }
   ],
   "source": [
    "#The values missing from this column are due to respondent being self employed, therefore null imputed to 'Not eligible for coverage / N/A'\n",
    "def impute_anonimity(row):\n",
    "    if pd.isnull(row['Is your anonymity protected if you choose to take advantage of mental health or substance abuse treatment resources provided by your employer?']) and row['Are you self-employed?'] == 1:\n",
    "        return \"N/A\"\n",
    "    else:\n",
    "        return row['Is your anonymity protected if you choose to take advantage of mental health or substance abuse treatment resources provided by your employer?']\n",
    "\n",
    "df['Is your anonymity protected if you choose to take advantage of mental health or substance abuse treatment resources provided by your employer?'] = df.apply(impute_anonimity,axis=1)\n",
    "\n",
    "print(df['Is your anonymity protected if you choose to take advantage of mental health or substance abuse treatment resources provided by your employer?'].isnull().sum())"
   ]
  },
  {
   "cell_type": "code",
   "execution_count": 32,
   "metadata": {},
   "outputs": [
    {
     "name": "stdout",
     "output_type": "stream",
     "text": [
      "0\n"
     ]
    }
   ],
   "source": [
    "#The values missing from this column are due to respondent being self employed, therefore null imputed to 'Not eligible for coverage / N/A'\n",
    "def impute_leave(row):\n",
    "    if pd.isnull(row['If a mental health issue prompted you to request a medical leave from work, asking for that leave would be:']) and row['Are you self-employed?'] == 1:\n",
    "        return \"N/A\"\n",
    "    else:\n",
    "        return row['If a mental health issue prompted you to request a medical leave from work, asking for that leave would be:']\n",
    "\n",
    "df['If a mental health issue prompted you to request a medical leave from work, asking for that leave would be:'] = df.apply(impute_leave,axis=1)\n",
    "\n",
    "print(df['If a mental health issue prompted you to request a medical leave from work, asking for that leave would be:'].isnull().sum())"
   ]
  },
  {
   "cell_type": "code",
   "execution_count": 33,
   "metadata": {},
   "outputs": [
    {
     "name": "stdout",
     "output_type": "stream",
     "text": [
      "0\n"
     ]
    }
   ],
   "source": [
    "#The values missing from this column are due to respondent being self employed, therefore null imputed to 'Not eligible for coverage / N/A'\n",
    "def impute_discuss(row):\n",
    "    if pd.isnull(row['Do you think that discussing a mental health disorder with your employer would have negative consequences?']) and row['Are you self-employed?'] == 1:\n",
    "        return \"N/A\"\n",
    "    else:\n",
    "        return row['Do you think that discussing a mental health disorder with your employer would have negative consequences?']\n",
    "\n",
    "df['Do you think that discussing a mental health disorder with your employer would have negative consequences?'] = df.apply(impute_discuss,axis=1)\n",
    "\n",
    "print(df['Do you think that discussing a mental health disorder with your employer would have negative consequences?'].isnull().sum())"
   ]
  },
  {
   "cell_type": "code",
   "execution_count": 34,
   "metadata": {},
   "outputs": [
    {
     "name": "stdout",
     "output_type": "stream",
     "text": [
      "0\n"
     ]
    }
   ],
   "source": [
    "#The values missing from this column are due to respondent being self employed, therefore null imputed to 'Not eligible for coverage / N/A'\n",
    "def impute_discuss_phy(row):\n",
    "    if pd.isnull(row['Do you think that discussing a physical health issue with your employer would have negative consequences?']) and row['Are you self-employed?'] == 1:\n",
    "        return \"N/A\"\n",
    "    else:\n",
    "        return row['Do you think that discussing a physical health issue with your employer would have negative consequences?']\n",
    "\n",
    "df['Do you think that discussing a physical health issue with your employer would have negative consequences?'] = df.apply(impute_discuss_phy,axis=1)\n",
    "\n",
    "print(df['Do you think that discussing a physical health issue with your employer would have negative consequences?'].isnull().sum())\n"
   ]
  },
  {
   "cell_type": "code",
   "execution_count": 35,
   "metadata": {},
   "outputs": [
    {
     "name": "stdout",
     "output_type": "stream",
     "text": [
      "0\n"
     ]
    }
   ],
   "source": [
    "#The values missing from this column are due to respondent being self employed, therefore null imputed to 'Not eligible for coverage / N/A'\n",
    "def impute_comfortable_co(row):\n",
    "    if pd.isnull(row['Would you feel comfortable discussing a mental health disorder with your coworkers?']) and row['Are you self-employed?'] == 1:\n",
    "        return \"N/A\"\n",
    "    else:\n",
    "        return row['Would you feel comfortable discussing a mental health disorder with your coworkers?']\n",
    "\n",
    "df['Would you feel comfortable discussing a mental health disorder with your coworkers?'] = df.apply(impute_comfortable_co,axis=1)\n",
    "\n",
    "print(df['Would you feel comfortable discussing a mental health disorder with your coworkers?'].isnull().sum())"
   ]
  },
  {
   "cell_type": "code",
   "execution_count": 36,
   "metadata": {},
   "outputs": [
    {
     "name": "stdout",
     "output_type": "stream",
     "text": [
      "0\n"
     ]
    }
   ],
   "source": [
    "#The values missing from this column are due to respondent being self employed, therefore null imputed to 'Not eligible for coverage / N/A'\n",
    "def impute_comfortable_superior(row):\n",
    "    if pd.isnull(row['Would you feel comfortable discussing a mental health disorder with your direct supervisor(s)?']) and row['Are you self-employed?'] == 1:\n",
    "        return \"N/A\"\n",
    "    else:\n",
    "        return row['Would you feel comfortable discussing a mental health disorder with your direct supervisor(s)?']\n",
    "\n",
    "df['Would you feel comfortable discussing a mental health disorder with your direct supervisor(s)?'] = df.apply(impute_comfortable_superior,axis=1)\n",
    "\n",
    "print(df['Would you feel comfortable discussing a mental health disorder with your direct supervisor(s)?'].isnull().sum())"
   ]
  },
  {
   "cell_type": "code",
   "execution_count": 37,
   "metadata": {},
   "outputs": [
    {
     "name": "stdout",
     "output_type": "stream",
     "text": [
      "0\n"
     ]
    }
   ],
   "source": [
    "#The values missing from this column are due to respondent being self employed, therefore null imputed to 'Not eligible for coverage / N/A'\n",
    "def impute_mental_over_phy(row):\n",
    "    if pd.isnull(row['Do you feel that your employer takes mental health as seriously as physical health?']) and row['Are you self-employed?'] == 1:\n",
    "        return \"N/A\"\n",
    "    else:\n",
    "        return row['Do you feel that your employer takes mental health as seriously as physical health?']\n",
    "\n",
    "df['Do you feel that your employer takes mental health as seriously as physical health?'] = df.apply(impute_mental_over_phy,axis=1)\n",
    "\n",
    "print(df['Do you feel that your employer takes mental health as seriously as physical health?'].isnull().sum())"
   ]
  },
  {
   "cell_type": "code",
   "execution_count": 38,
   "metadata": {},
   "outputs": [
    {
     "name": "stdout",
     "output_type": "stream",
     "text": [
      "0\n"
     ]
    }
   ],
   "source": [
    "#The values missing from this column are due to respondent being self employed, therefore null imputed to 'Not eligible for coverage / N/A'\n",
    "def impute_negative_open(row):\n",
    "    if pd.isnull(row['Have you heard of or observed negative consequences for co-workers who have been open about mental health issues in your workplace?']) and row['Are you self-employed?'] == 1:\n",
    "        return \"N/A\"\n",
    "    else:\n",
    "        return row['Have you heard of or observed negative consequences for co-workers who have been open about mental health issues in your workplace?']\n",
    "\n",
    "df['Have you heard of or observed negative consequences for co-workers who have been open about mental health issues in your workplace?'] = df.apply(impute_negative_open, axis=1)\n",
    "\n",
    "print(df['Have you heard of or observed negative consequences for co-workers who have been open about mental health issues in your workplace?'].isnull().sum())"
   ]
  },
  {
   "cell_type": "code",
   "execution_count": 39,
   "metadata": {},
   "outputs": [
    {
     "name": "stdout",
     "output_type": "stream",
     "text": [
      "Do you know the options for mental health care available under your employer-provided coverage?\n",
      "No               354\n",
      "I am not sure    352\n",
      "Yes              307\n",
      "Name: count, dtype: int64\n",
      "420\n"
     ]
    }
   ],
   "source": [
    "print(df['Do you know the options for mental health care available under your employer-provided coverage?'].value_counts())\n",
    "print(df['Do you know the options for mental health care available under your employer-provided coverage?'].isnull().sum())\n",
    "\n",
    "#37.12% of respondents did not answer the question, didn’t know or were unsure of this question. Upon review using this data will create inconsistent results if imputed. \n",
    "df = df.drop(columns='Do you know the options for mental health care available under your employer-provided coverage?')"
   ]
  },
  {
   "cell_type": "code",
   "execution_count": 40,
   "metadata": {},
   "outputs": [
    {
     "name": "stdout",
     "output_type": "stream",
     "text": [
      "Do you have previous employers?\n",
      "1    1264\n",
      "0     169\n",
      "Name: count, dtype: int64\n"
     ]
    }
   ],
   "source": [
    "print(df['Do you have previous employers?'].value_counts())"
   ]
  },
  {
   "cell_type": "code",
   "execution_count": 41,
   "metadata": {},
   "outputs": [
    {
     "name": "stdout",
     "output_type": "stream",
     "text": [
      "0\n"
     ]
    }
   ],
   "source": [
    "#The values missing from this feature are due to respondent having no previous employer, therefore null imputed to 'N/A'\n",
    "def impute_prev_benefits(row):\n",
    "    if pd.isnull(row['Have your previous employers provided mental health benefits?']) and row['Do you have previous employers?'] == 0:\n",
    "        return \"N/A\"\n",
    "    else:\n",
    "        return row['Have your previous employers provided mental health benefits?']\n",
    "\n",
    "df['Have your previous employers provided mental health benefits?'] = df.apply(impute_prev_benefits, axis=1)\n",
    "\n",
    "print(df['Have your previous employers provided mental health benefits?'].isnull().sum())"
   ]
  },
  {
   "cell_type": "code",
   "execution_count": 42,
   "metadata": {},
   "outputs": [
    {
     "name": "stdout",
     "output_type": "stream",
     "text": [
      "0\n"
     ]
    }
   ],
   "source": [
    "#The values missing from this feature are due to respondent having no previous employer, therefore null imputed to 'N/A'\n",
    "def impute(row):\n",
    "    if pd.isnull(row['Were you aware of the options for mental health care provided by your previous employers?']) and row['Do you have previous employers?'] == 0:\n",
    "        return \"N/A (no previous employer)\"\n",
    "    else:\n",
    "        return row['Were you aware of the options for mental health care provided by your previous employers?']\n",
    "\n",
    "df['Were you aware of the options for mental health care provided by your previous employers?'] = df.apply(impute, axis=1)\n",
    "\n",
    "print(df['Were you aware of the options for mental health care provided by your previous employers?'].isnull().sum())"
   ]
  },
  {
   "cell_type": "code",
   "execution_count": 43,
   "metadata": {},
   "outputs": [
    {
     "name": "stdout",
     "output_type": "stream",
     "text": [
      "0\n"
     ]
    }
   ],
   "source": [
    "#The values missing from this feature are due to respondent having no previous employer, therefore null imputed to 'N/A'\n",
    "def impute(row):\n",
    "    if pd.isnull(row['Were you aware of the options for mental health care provided by your previous employers?']) and row['Do you have previous employers?'] == 0:\n",
    "        return \"N/A\"\n",
    "    else:\n",
    "        return row['Were you aware of the options for mental health care provided by your previous employers?']\n",
    "\n",
    "df['Were you aware of the options for mental health care provided by your previous employers?'] = df.apply(impute, axis=1)\n",
    "\n",
    "print(df['Were you aware of the options for mental health care provided by your previous employers?'].isnull().sum())"
   ]
  },
  {
   "cell_type": "code",
   "execution_count": 44,
   "metadata": {},
   "outputs": [
    {
     "name": "stdout",
     "output_type": "stream",
     "text": [
      "0\n"
     ]
    }
   ],
   "source": [
    "#The values missing from this feature are due to respondent having no previous employer, therefore null imputed to 'N/A'\n",
    "def impute(row):\n",
    "    if pd.isnull(row['Did your previous employers ever formally discuss mental health (as part of a wellness campaign or other official communication)?']) and row['Do you have previous employers?'] == 0:\n",
    "        return \"N/A\"\n",
    "    else:\n",
    "        return row['Did your previous employers ever formally discuss mental health (as part of a wellness campaign or other official communication)?']\n",
    "\n",
    "df['Did your previous employers ever formally discuss mental health (as part of a wellness campaign or other official communication)?'] = df.apply(impute, axis=1)\n",
    "\n",
    "print(df['Did your previous employers ever formally discuss mental health (as part of a wellness campaign or other official communication)?'].isnull().sum())"
   ]
  },
  {
   "cell_type": "code",
   "execution_count": 45,
   "metadata": {},
   "outputs": [
    {
     "name": "stdout",
     "output_type": "stream",
     "text": [
      "0\n"
     ]
    }
   ],
   "source": [
    "#The values missing from this feature are due to respondent having no previous employer, therefore null imputed to 'N/A'\n",
    "def impute(row):\n",
    "    if pd.isnull(row['Did your previous employers provide resources to learn more about mental health issues and how to seek help?']) and row['Do you have previous employers?'] == 0:\n",
    "        return \"N/A\"\n",
    "    else:\n",
    "        return row['Did your previous employers provide resources to learn more about mental health issues and how to seek help?']\n",
    "\n",
    "df['Did your previous employers provide resources to learn more about mental health issues and how to seek help?'] = df.apply(impute, axis=1)\n",
    "\n",
    "print(df['Did your previous employers provide resources to learn more about mental health issues and how to seek help?'].isnull().sum())"
   ]
  },
  {
   "cell_type": "code",
   "execution_count": 46,
   "metadata": {},
   "outputs": [
    {
     "name": "stdout",
     "output_type": "stream",
     "text": [
      "0\n"
     ]
    }
   ],
   "source": [
    "#The values missing from this feature are due to respondent having no previous employer, therefore null imputed to 'N/A'\n",
    "def impute(row):\n",
    "    if pd.isnull(row['Was your anonymity protected if you chose to take advantage of mental health or substance abuse treatment resources with previous employers?']) and row['Do you have previous employers?'] == 0:\n",
    "        return \"N/A\"\n",
    "    else:\n",
    "        return row['Was your anonymity protected if you chose to take advantage of mental health or substance abuse treatment resources with previous employers?']\n",
    "\n",
    "df['Was your anonymity protected if you chose to take advantage of mental health or substance abuse treatment resources with previous employers?'] = df.apply(impute, axis=1)\n",
    "\n",
    "print(df['Was your anonymity protected if you chose to take advantage of mental health or substance abuse treatment resources with previous employers?'].isnull().sum())"
   ]
  },
  {
   "cell_type": "code",
   "execution_count": 47,
   "metadata": {},
   "outputs": [
    {
     "name": "stdout",
     "output_type": "stream",
     "text": [
      "0\n"
     ]
    }
   ],
   "source": [
    "#The values missing from this feature are due to respondent having no previous employer, therefore null imputed to 'N/A'\n",
    "def impute(row):\n",
    "    if pd.isnull(row['Do you think that discussing a mental health disorder with previous employers would have negative consequences?']) and row['Do you have previous employers?'] == 0:\n",
    "        return \"N/A\"\n",
    "    else:\n",
    "        return row['Do you think that discussing a mental health disorder with previous employers would have negative consequences?']\n",
    "\n",
    "df['Do you think that discussing a mental health disorder with previous employers would have negative consequences?'] = df.apply(impute, axis=1)\n",
    "\n",
    "print(df['Do you think that discussing a mental health disorder with previous employers would have negative consequences?'].isnull().sum())"
   ]
  },
  {
   "cell_type": "code",
   "execution_count": 48,
   "metadata": {},
   "outputs": [
    {
     "name": "stdout",
     "output_type": "stream",
     "text": [
      "0\n"
     ]
    }
   ],
   "source": [
    "#The values missing from this feature are due to respondent having no previous employer, therefore null imputed to 'N/A'\n",
    "def impute(row):\n",
    "    if pd.isnull(row['Do you think that discussing a physical health issue with previous employers would have negative consequences?']) and row['Do you have previous employers?'] == 0:\n",
    "        return \"N/A\"\n",
    "    else:\n",
    "        return row['Do you think that discussing a physical health issue with previous employers would have negative consequences?']\n",
    "\n",
    "df['Do you think that discussing a physical health issue with previous employers would have negative consequences?'] = df.apply(impute, axis=1)\n",
    "\n",
    "print(df['Do you think that discussing a physical health issue with previous employers would have negative consequences?'].isnull().sum())"
   ]
  },
  {
   "cell_type": "code",
   "execution_count": 49,
   "metadata": {},
   "outputs": [
    {
     "name": "stdout",
     "output_type": "stream",
     "text": [
      "0\n",
      "0\n",
      "0\n"
     ]
    }
   ],
   "source": [
    "#The values missing from this feature are due to respondent having no previous employer, therefore null imputed to 'N/A'\n",
    "def impute(row):\n",
    "    if pd.isnull(row['Would you have been willing to discuss a mental health issue with your previous co-workers?']) and row['Do you have previous employers?'] == 0:\n",
    "        return \"N/A\"\n",
    "    else:\n",
    "        return row['Would you have been willing to discuss a mental health issue with your previous co-workers?']\n",
    "\n",
    "df['Would you have been willing to discuss a mental health issue with your previous co-workers?'] = df.apply(impute, axis=1)\n",
    "\n",
    "print(df['Would you have been willing to discuss a mental health issue with your previous co-workers?'].isnull().sum())\n",
    "\n",
    "#The values missing from this feature are due to respondent having no previous employer, therefore null imputed to 'N/A'\n",
    "def impute(row):\n",
    "    if pd.isnull(row['Would you have been willing to discuss a mental health issue with your direct supervisor(s)?']) and row['Do you have previous employers?'] == 0:\n",
    "        return \"N/A\"\n",
    "    else:\n",
    "        return row['Would you have been willing to discuss a mental health issue with your direct supervisor(s)?']\n",
    "\n",
    "df['Would you have been willing to discuss a mental health issue with your direct supervisor(s)?'] = df.apply(impute, axis=1)\n",
    "\n",
    "print(df['Would you have been willing to discuss a mental health issue with your direct supervisor(s)?'].isnull().sum())\n",
    "\n",
    "#The values missing from this feature are due to respondent having no previous employer, therefore null imputed to 'N/A'\n",
    "def impute(row):\n",
    "    if pd.isnull(row['Did you feel that your previous employers took mental health as seriously as physical health?']) and row['Do you have previous employers?'] == 0:\n",
    "        return \"N/A\"\n",
    "    else:\n",
    "        return row['Did you feel that your previous employers took mental health as seriously as physical health?']\n",
    "\n",
    "df['Did you feel that your previous employers took mental health as seriously as physical health?'] = df.apply(impute, axis=1)\n",
    "\n",
    "print(df['Did you feel that your previous employers took mental health as seriously as physical health?'].isnull().sum())"
   ]
  },
  {
   "cell_type": "code",
   "execution_count": 50,
   "metadata": {},
   "outputs": [
    {
     "name": "stdout",
     "output_type": "stream",
     "text": [
      "0\n"
     ]
    }
   ],
   "source": [
    "#The values missing from this feature are due to respondent having no previous employer, therefore null imputed to 'N/A'\n",
    "def impute(row):\n",
    "    if pd.isnull(row['Did you hear of or observe negative consequences for co-workers with mental health issues in your previous workplaces?']) and row['Do you have previous employers?'] == 0:\n",
    "        return \"N/A\"\n",
    "    else:\n",
    "        return row['Did you hear of or observe negative consequences for co-workers with mental health issues in your previous workplaces?']\n",
    "\n",
    "df['Did you hear of or observe negative consequences for co-workers with mental health issues in your previous workplaces?'] = df.apply(impute, axis=1)\n",
    "\n",
    "print(df['Did you hear of or observe negative consequences for co-workers with mental health issues in your previous workplaces?'].isnull().sum())"
   ]
  },
  {
   "cell_type": "code",
   "execution_count": 51,
   "metadata": {},
   "outputs": [
    {
     "name": "stdout",
     "output_type": "stream",
     "text": [
      "The column 'Why or why not?' is at index: 37\n"
     ]
    }
   ],
   "source": [
    "column_names = df.columns.tolist()\n",
    "\n",
    "for index, column_name in enumerate(df.columns):\n",
    "    if column_name == 'Why or why not?.1':\n",
    "        print(f\"The column 'Why or why not?' is at index: {index}\")\n"
   ]
  },
  {
   "cell_type": "code",
   "execution_count": 52,
   "metadata": {},
   "outputs": [],
   "source": [
    "column_names[35] = 'why_physical'\n",
    "column_names[37] = 'why_mental'\n",
    "df.columns = column_names"
   ]
  },
  {
   "cell_type": "code",
   "execution_count": 53,
   "metadata": {},
   "outputs": [],
   "source": [
    "#imputing null values with No Diagnosis\n",
    "df['If yes, what condition(s) have you been diagnosed with?'] = df['If yes, what condition(s) have you been diagnosed with?'].replace([np.nan,'',None], 'No_Diagnosis').astype(str).str.lower()\n",
    "df['If maybe, what condition(s) do you believe you have?'] = df['If maybe, what condition(s) do you believe you have?'].replace([np.nan,'',None], 'No_Diagnosis').astype(str).str.lower()\n",
    "df['If so, what condition(s) were you diagnosed with?'] = df['If so, what condition(s) were you diagnosed with?'].replace([np.nan,'',None], 'No_Diagnosis').astype(str).str.lower()"
   ]
  },
  {
   "cell_type": "code",
   "execution_count": 54,
   "metadata": {},
   "outputs": [],
   "source": [
    "#diagnosis columns need to be encoded\n",
    "def expand_diagnosis(df,column_name, prefix):\n",
    "    df[column_name] = df[column_name].str.split('|')\n",
    "\n",
    "    diagnosis = df[column_name].explode()\n",
    "    dummies = pd.get_dummies(diagnosis, prefix=prefix)\n",
    "\n",
    "    df_dummies = dummies.groupby(level=0).sum()\n",
    "\n",
    "    df = pd.concat([df,df_dummies], axis=1)\n",
    "    return df\n",
    "\n",
    "df = expand_diagnosis(df,'If yes, what condition(s) have you been diagnosed with?','y_')\n",
    "df = expand_diagnosis(df,'If maybe, what condition(s) do you believe you have?','m_')\n",
    "df = expand_diagnosis(df,'If so, what condition(s) were you diagnosed with?','gp_')"
   ]
  },
  {
   "cell_type": "code",
   "execution_count": 55,
   "metadata": {},
   "outputs": [],
   "source": [
    "df = df.drop(columns=['If yes, what condition(s) have you been diagnosed with?','If maybe, what condition(s) do you believe you have?','If so, what condition(s) were you diagnosed with?'])"
   ]
  },
  {
   "cell_type": "code",
   "execution_count": 56,
   "metadata": {},
   "outputs": [],
   "source": [
    "# Merge columns for 'y_addictive'\n",
    "df['y_addictive'] = df[['y__addictive disorder', 'y__substance use disorder']].max(axis=1)\n",
    "\n",
    "# Merge columns for 'y_anxiety_stress'\n",
    "df['y_anxiety_stress'] = df[['y__anxiety disorder (generalized, social, phobia, etc)', \n",
    "                             \"y__i haven't been formally diagnosed, so i felt uncomfortable answering, but social anxiety and depression.\",\n",
    "                             'y__stress response syndromes', 'y__burn out']].max(axis=1)\n",
    "\n",
    "# Merge columns for 'y_mood_disorder'\n",
    "df['y_mood_disorder'] = df[['y__depression', \n",
    "                            'y__mood disorder (depression, bipolar disorder, etc)',\n",
    "                            'y__seasonal affective disorder']].max(axis=1)\n",
    "\n",
    "# Rename for 'y_ocd'\n",
    "df.rename(columns={'y__obsessive-compulsive disorder': 'y_ocd'}, inplace=True)\n",
    "\n",
    "# Rename for 'y_psychotic'\n",
    "df.rename(columns={'y__psychotic disorder (schizophrenia, schizoaffective, etc)': 'y_psychotic'}, inplace=True)\n",
    "\n",
    "# Merge columns for 'y_autism_develop'\n",
    "df['y_autism_develop'] = df[['y__asperges', 'y__autism', \"y__autism (asperger's)\", \n",
    "                              'y__autism spectrum disorder', 'y__pdd-nos', \n",
    "                              'y__pervasive developmental disorder (not otherwise specified)']].max(axis=1)\n",
    "\n",
    "# Rename for 'y_eating'\n",
    "df.rename(columns={'y__eating disorder (anorexia, bulimia, etc)': 'y_eating'}, inplace=True)\n",
    "\n",
    "# Merge columns for 'y_other'\n",
    "df['y_other'] = df[['y__gender dysphoria', 'y__transgender', 'y__intimate disorder',\n",
    "                    'y__traumatic brain injury', \n",
    "                    \"y__combination of physical impairment (strongly near-sighted) with a possibly mental one (mcd / \\\"adhd\\\", though its actually a stimulus filtering impairment)\",\n",
    "                    'y__sleeping disorder', 'y__sexual addiction']].max(axis=1)\n",
    "\n",
    "# Merge columns for 'y_ptsd'\n",
    "df['y_ptsd'] = df[['y__post-traumatic stress disorder', 'y__ptsd (undiagnosed)']].max(axis=1)\n",
    "\n",
    "# Merge columns for 'y_adhd'\n",
    "df['y_adhd'] = df[['y__add (w/o hyperactivity)', 'y__attention deficit hyperactivity disorder']].max(axis=1)\n",
    "\n",
    "# Rename for 'y__dissociative'\n",
    "df.rename(columns={'y__dissociative disorder': 'y__dissociative'}, inplace=True)\n",
    "\n",
    "# Merge columns for 'y_personality'\n",
    "df['y_personality'] = df[['y__schizotypal personality disorder', \n",
    "                          'y__personality disorder (borderline, antisocial, paranoid, etc)']].max(axis=1)\n",
    "\n",
    "# Deleting old columns after merging\n",
    "df.drop(['y__addictive disorder', 'y__substance use disorder',\n",
    "         'y__anxiety disorder (generalized, social, phobia, etc)', \n",
    "         \"y__i haven't been formally diagnosed, so i felt uncomfortable answering, but social anxiety and depression.\",\n",
    "         'y__stress response syndromes', 'y__burn out',\n",
    "         'y__depression', 'y__mood disorder (depression, bipolar disorder, etc)',\n",
    "         'y__seasonal affective disorder', 'y__asperges', 'y__autism', \"y__autism (asperger's)\",\n",
    "         'y__autism spectrum disorder', 'y__pdd-nos', \n",
    "         'y__pervasive developmental disorder (not otherwise specified)',\n",
    "         'y__gender dysphoria', 'y__transgender', 'y__intimate disorder',\n",
    "         'y__traumatic brain injury', \n",
    "         \"y__combination of physical impairment (strongly near-sighted) with a possibly mental one (mcd / \\\"adhd\\\", though its actually a stimulus filtering impairment)\",\n",
    "         'y__sleeping disorder', 'y__sexual addiction',\n",
    "         'y__post-traumatic stress disorder', 'y__ptsd (undiagnosed)',\n",
    "         'y__add (w/o hyperactivity)', 'y__attention deficit hyperactivity disorder',\n",
    "         'y__schizotypal personality disorder', \n",
    "         'y__personality disorder (borderline, antisocial, paranoid, etc)'], axis=1, inplace=True)\n",
    "      "
   ]
  },
  {
   "cell_type": "code",
   "execution_count": 57,
   "metadata": {},
   "outputs": [],
   "source": [
    "# Merge columns for 'm_addictive'\n",
    "df['m_addictive'] = df[['m__addictive disorder', 'm__substance use disorder']].max(axis=1)\n",
    "\n",
    "# Merge columns for 'm_anxiety_stress'\n",
    "df['m_anxiety_stress'] = df[['m__anxiety disorder (generalized, social, phobia, etc)', \n",
    "                             'm__stress response syndromes', 'm__burnout', 'm__post-partum / anxiety']].max(axis=1)\n",
    "\n",
    "# Merge columns for 'm_autism_develop'\n",
    "df['m_autism_develop'] = df[['m__asperger syndrome', \"m__asperger's\", 'm__autism']].max(axis=1)\n",
    "\n",
    "# Rename columns for specific disorders (simple renames)\n",
    "df.rename(columns={\n",
    "    'm__attention deficit hyperactivity disorder': 'm_adhd',\n",
    "    'm__eating disorder (anorexia, bulimia, etc)': 'm_eating',\n",
    "    'm__mood disorder (depression, bipolar disorder, etc)': 'm_mood_disorder',\n",
    "    'm__obsessive-compulsive disorder': 'm_ocd',\n",
    "    'm__psychotic disorder (schizophrenia, schizoaffective, etc)': 'm_psychotic',\n",
    "    'm__personality disorder (borderline, antisocial, paranoid, etc)': 'm_personality',\n",
    "    'm__post-traumatic stress disorder': 'm_ptsd'\n",
    "}, inplace=True)\n",
    "\n",
    "# Merge columns for 'm_other'\n",
    "df['m_other'] = df[['m__suicidal ideation', \"m__we're all hurt, right?!\", 'm__tinnitus', 'm__gender identity disorder']].max(axis=1)\n",
    "\n",
    "# Merge columns for 'm_dissociative'\n",
    "df['m_dissociative'] = df[['m__depersonalisation', 'm__depersonalization disorder', 'm__dissociative disorder']].max(axis=1)\n",
    "\n",
    "# Deleting old columns after merging and renaming\n",
    "df.drop([\n",
    "    'm__addictive disorder', 'm__substance use disorder',\n",
    "    'm__anxiety disorder (generalized, social, phobia, etc)', 'm__stress response syndromes', 'm__burnout', 'm__post-partum / anxiety',\n",
    "    'm__asperger syndrome', \"m__asperger's\", 'm__autism',\n",
    "    'm__suicidal ideation', \"m__we're all hurt, right?!\", 'm__tinnitus', 'm__gender identity disorder',\n",
    "    'm__depersonalisation', 'm__depersonalization disorder', 'm__dissociative disorder'\n",
    "], axis=1, inplace=True)\n"
   ]
  },
  {
   "cell_type": "code",
   "execution_count": 58,
   "metadata": {},
   "outputs": [],
   "source": [
    "df.rename(columns={\"\"\"gp__mcd (when it was diagnosed, the ultra-mega \"disorder\" adhd didn't exist yet)\"\"\": 'gp_mcd'}, inplace=True)"
   ]
  },
  {
   "cell_type": "code",
   "execution_count": 59,
   "metadata": {},
   "outputs": [],
   "source": [
    "\n",
    "# Merge columns for ADHD, Addiction, Anxiety/Stress, Autism Development, Mood Disorder, PTSD, and Personality Disorder\n",
    "df['pro_adhd'] = df[['gp__add (w/o hyperactivity)', 'gp__attention deficit disorder', \n",
    "                     'gp__attention deficit disorder (but not the hyperactive version)', \n",
    "                     'gp__attention deficit hyperactivity disorder', \n",
    "                     'gp_mcd']].max(axis=1)\n",
    "\n",
    "df['pro_addictive'] = df[['gp__addictive disorder', 'gp__substance use disorder']].max(axis=1)\n",
    "\n",
    "df['pro_anxiety_stress'] = df[['gp__anxiety disorder (generalized, social, phobia, etc)', \n",
    "                               'gp__burn out', 'gp__stress response syndromes']].max(axis=1)\n",
    "\n",
    "df['pro_autism_develop'] = df[['gp__asperger syndrome', 'gp__aspergers', 'gp__autism', \n",
    "                               \"gp__autism (asperger's)\", \n",
    "                               \"gp__autism - while not a \\\"mental illness\\\", still greatly affects how i handle anxiety\", \n",
    "                               'gp__autism spectrum disorder', 'gp__pdd-nos (see above)', 'gp__pdd-nos']].max(axis=1)\n",
    "\n",
    "df['pro_mood_disorder'] = df[['gp__depression', 'gp__mood disorder (depression, bipolar disorder, etc)', \n",
    "                              'gp__seasonal affective disorder']].max(axis=1)\n",
    "\n",
    "df['pro_ptsd'] = df[['gp__post-traumatic stress disorder', 'gp__posttraumatic stress disourder']].max(axis=1)\n",
    "\n",
    "df['pro_personality'] = df[['gp__schizotypal personality disorder', \n",
    "                            'gp__personality disorder (borderline, antisocial, paranoid, etc)']].max(axis=1)\n",
    "\n",
    "# Rename columns for specific disorders (simple renames)\n",
    "df.rename(columns={\n",
    "    'gp__eating disorder (anorexia, bulimia, etc)': 'pro_eating',\n",
    "    'gp__dissociative disorder': 'pro_dissociative',\n",
    "    'gp__psychotic disorder (schizophrenia, schizoaffective, etc)': 'pro_psychotic',\n",
    "    'gp__obsessive-compulsive disorder': 'pro_ocd',\n",
    "    'gp__no_diagnosis': 'pro_no_diagnosis',\n",
    "    'm__no_diagnosis': 'm_no_diagnosis',\n",
    "    'y__no_diagnosis': 'y_no_diagnosis'\n",
    "}, inplace=True)\n",
    "\n",
    "# Merge columns for 'pro_other'\n",
    "df['pro_other'] = df[['gp__gender identity disorder', 'gp__gender dysphoria', 'gp__intimate disorder', \n",
    "                      'gp__suicidal ideation']].max(axis=1)\n",
    "\n",
    "# Deleting old columns after merging and renaming\n",
    "old_columns = ['gp__add (w/o hyperactivity)', 'gp__attention deficit disorder', \n",
    "               'gp__attention deficit disorder (but not the hyperactive version)', \n",
    "               'gp__attention deficit hyperactivity disorder', \n",
    "               'gp_mcd',\n",
    "               'gp__addictive disorder', 'gp__substance use disorder',\n",
    "               'gp__anxiety disorder (generalized, social, phobia, etc)', 'gp__burn out', 'gp__stress response syndromes',\n",
    "               'gp__asperger syndrome', 'gp__aspergers', 'gp__autism', \"gp__autism (asperger's)\", \n",
    "               \"gp__autism - while not a \\\"mental illness\\\", still greatly affects how i handle anxiety\", \n",
    "               'gp__autism spectrum disorder', 'gp__pdd-nos (see above)', 'gp__pdd-nos',\n",
    "               'gp__depression', 'gp__mood disorder (depression, bipolar disorder, etc)', \n",
    "               'gp__seasonal affective disorder', 'gp__post-traumatic stress disorder', 'gp__posttraumatic stress disourder',\n",
    "               'gp__schizotypal personality disorder', 'gp__personality disorder (borderline, antisocial, paranoid, etc)',\n",
    "               'gp__gender identity disorder', 'gp__gender dysphoria', 'gp__intimate disorder', 'gp__suicidal ideation']\n",
    "df.drop(old_columns, axis=1, inplace=True)\n"
   ]
  },
  {
   "cell_type": "code",
   "execution_count": 60,
   "metadata": {},
   "outputs": [],
   "source": [
    "# Dictionary for renaming all columns\n",
    "rename_dict = {\n",
    "    'Are you self-employed?': 'is_self_employed',\n",
    "    'How many employees does your company or organization have?': 'num_employees',\n",
    "    'Is your employer primarily a tech company/organization?': 'is_tech_company',\n",
    "    'Does your employer provide mental health benefits as part of healthcare coverage?': 'provides_mental_health_benefits',\n",
    "    'Has your employer ever formally discussed mental health (for example, as part of a wellness campaign or other official communication)?': 'has_discussed_mental_health',\n",
    "    'Does your employer offer resources to learn more about mental health concerns and options for seeking help?': 'offers_mental_health_resources',\n",
    "    'Is your anonymity protected if you choose to take advantage of mental health or substance abuse treatment resources provided by your employer?': 'is_anonymity_protected',\n",
    "    'If a mental health issue prompted you to request a medical leave from work, asking for that leave would be:': 'ease_of_leave_for_mental_health',\n",
    "    'Do you think that discussing a mental health disorder with your employer would have negative consequences?': 'mental_health_discussion_consequences',\n",
    "    'Do you think that discussing a physical health issue with your employer would have negative consequences?': 'physical_health_discussion_consequences',\n",
    "    'Would you feel comfortable discussing a mental health disorder with your coworkers?': 'comfort_discussing_mental_health_with_coworkers',\n",
    "    'Would you feel comfortable discussing a mental health disorder with your direct supervisor(s)?': 'comfort_discussing_mental_health_with_supervisor',\n",
    "    'Do you feel that your employer takes mental health as seriously as physical health?': 'employer_values_mental_equal_physical',\n",
    "    'Have you heard of or observed negative consequences for co-workers who have been open about mental health issues in your workplace?': 'observed_neg_consequences_for_coworkers',\n",
    "    'Do you have previous employers?': 'has_previous_employers',\n",
    "    'Have your previous employers provided mental health benefits?': 'previous_employers_mental_health_benefits',\n",
    "    'Were you aware of the options for mental health care provided by your previous employers?': 'aware_of_mental_health_care_options_previous',\n",
    "    'Did your previous employers ever formally discuss mental health (as part of a wellness campaign or other official communication)?': 'previous_employers_discussed_mental_health',\n",
    "    'Did your previous employers provide resources to learn more about mental health issues and how to seek help?': 'previous_employers_offered_mental_health_resources',\n",
    "    'Was your anonymity protected if you chose to take advantage of mental health or substance abuse treatment resources with previous employers?': 'anonymity_protected_previous_employers',\n",
    "    'Do you think that discussing a mental health disorder with previous employers would have negative consequences?': 'mental_health_discussion_consequences_previous',\n",
    "    'Do you think that discussing a physical health issue with previous employers would have negative consequences?': 'physical_health_discussion_consequences_previous',\n",
    "    'Would you have been willing to discuss a mental health issue with your previous co-workers?': 'willing_discuss_mental_health_previous_coworkers',\n",
    "    'Would you have been willing to discuss a mental health issue with your direct supervisor(s)?': 'willing_discuss_mental_health_previous_supervisor',\n",
    "    'Did you feel that your previous employers took mental health as seriously as physical health?': 'previous_employers_valued_mental_equal_physical',\n",
    "    'Did you hear of or observe negative consequences for co-workers with mental health issues in your previous workplaces?': 'observed_neg_consequences_previous_workplaces',\n",
    "    'Would you be willing to bring up a physical health issue with a potential employer in an interview?': 'willing_discuss_physical_health_in_interview',\n",
    "    'Would you bring up a mental health issue with a potential employer in an interview?': 'willing_discuss_mental_health_in_interview',\n",
    "    'Do you feel that being identified as a person with a mental health issue would hurt your career?': 'identified_mental_health_impact_career',\n",
    "    'Do you think that team members/co-workers would view you more negatively if they knew you suffered from a mental health issue?': 'team_view_negatively_mental_health',\n",
    "    'How willing would you be to share with friends and family that you have a mental illness?': 'willing_share_mental_health_with_friends_family',\n",
    "    'Have you observed or experienced an unsupportive or badly handled response to a mental health issue in your current or previous workplace?': 'observed_bad_mental_health_response',\n",
    "    'Have your observations of how another individual who discussed a mental health disorder made you less likely to reveal a mental health issue yourself in your current workplace?': 'less_likely_to_reveal_due_to_observation',\n",
    "    'Do you have a family history of mental illness?': 'family_history_mental_illness',\n",
    "    'Have you had a mental health disorder in the past?': 'had_mental_health_disorder_past',\n",
    "    'Do you currently have a mental health disorder?': 'currently_has_mental_health_disorder',\n",
    "    'If yes, what condition(s) have you been diagnosed with?': 'diagnosed_conditions',\n",
    "    'If maybe, what condition(s) do you believe you have?': 'believed_conditions',\n",
    "    'Have you been diagnosed with a mental health condition by a medical professional?': 'diagnosed_by_professional',\n",
    "    'Have you ever sought treatment for a mental health issue from a mental health professional?': 'sought_mental_health_treatment',\n",
    "    'If you have a mental health issue, do you feel that it interferes with your work when being treated effectively?': 'interference_with_work_when_treated',\n",
    "    'If you have a mental health issue, do you feel that it interferes with your work when NOT being treated effectively?': 'interference_with_work_when_not_treated',\n",
    "    'What is your age?': 'age',\n",
    "    'What is your gender?': 'gender',\n",
    "    'What country do you live in?': 'country_of_residence',\n",
    "    'What country do you work in?': 'country_of_work',\n",
    "    'Which of the following best describes your work position?': 'work_position',\n",
    "    'Do you work remotely?': 'works_remotely'\n",
    "}\n",
    "\n",
    "# Applying the rename operation to the DataFrame\n",
    "df.rename(columns=rename_dict, inplace=True)\n"
   ]
  },
  {
   "cell_type": "code",
   "execution_count": 61,
   "metadata": {},
   "outputs": [
    {
     "data": {
      "text/html": [
       "<div>\n",
       "<style scoped>\n",
       "    .dataframe tbody tr th:only-of-type {\n",
       "        vertical-align: middle;\n",
       "    }\n",
       "\n",
       "    .dataframe tbody tr th {\n",
       "        vertical-align: top;\n",
       "    }\n",
       "\n",
       "    .dataframe thead th {\n",
       "        text-align: right;\n",
       "    }\n",
       "</style>\n",
       "<table border=\"1\" class=\"dataframe\">\n",
       "  <thead>\n",
       "    <tr style=\"text-align: right;\">\n",
       "      <th></th>\n",
       "      <th>is_self_employed</th>\n",
       "      <th>num_employees</th>\n",
       "      <th>is_tech_company</th>\n",
       "      <th>provides_mental_health_benefits</th>\n",
       "      <th>has_discussed_mental_health</th>\n",
       "      <th>offers_mental_health_resources</th>\n",
       "      <th>is_anonymity_protected</th>\n",
       "      <th>ease_of_leave_for_mental_health</th>\n",
       "      <th>mental_health_discussion_consequences</th>\n",
       "      <th>physical_health_discussion_consequences</th>\n",
       "      <th>...</th>\n",
       "      <th>m_other</th>\n",
       "      <th>m_dissociative</th>\n",
       "      <th>pro_adhd</th>\n",
       "      <th>pro_addictive</th>\n",
       "      <th>pro_anxiety_stress</th>\n",
       "      <th>pro_autism_develop</th>\n",
       "      <th>pro_mood_disorder</th>\n",
       "      <th>pro_ptsd</th>\n",
       "      <th>pro_personality</th>\n",
       "      <th>pro_other</th>\n",
       "    </tr>\n",
       "  </thead>\n",
       "  <tbody>\n",
       "    <tr>\n",
       "      <th>0</th>\n",
       "      <td>0</td>\n",
       "      <td>26-100</td>\n",
       "      <td>1.0</td>\n",
       "      <td>Not eligible for coverage / N/A</td>\n",
       "      <td>No</td>\n",
       "      <td>No</td>\n",
       "      <td>I don't know</td>\n",
       "      <td>Very easy</td>\n",
       "      <td>No</td>\n",
       "      <td>No</td>\n",
       "      <td>...</td>\n",
       "      <td>0</td>\n",
       "      <td>0</td>\n",
       "      <td>0</td>\n",
       "      <td>0</td>\n",
       "      <td>1</td>\n",
       "      <td>0</td>\n",
       "      <td>0</td>\n",
       "      <td>0</td>\n",
       "      <td>0</td>\n",
       "      <td>0</td>\n",
       "    </tr>\n",
       "    <tr>\n",
       "      <th>1</th>\n",
       "      <td>0</td>\n",
       "      <td>6-25</td>\n",
       "      <td>1.0</td>\n",
       "      <td>No</td>\n",
       "      <td>Yes</td>\n",
       "      <td>Yes</td>\n",
       "      <td>Yes</td>\n",
       "      <td>Somewhat easy</td>\n",
       "      <td>No</td>\n",
       "      <td>No</td>\n",
       "      <td>...</td>\n",
       "      <td>0</td>\n",
       "      <td>0</td>\n",
       "      <td>0</td>\n",
       "      <td>0</td>\n",
       "      <td>1</td>\n",
       "      <td>0</td>\n",
       "      <td>1</td>\n",
       "      <td>0</td>\n",
       "      <td>0</td>\n",
       "      <td>0</td>\n",
       "    </tr>\n",
       "    <tr>\n",
       "      <th>2</th>\n",
       "      <td>0</td>\n",
       "      <td>6-25</td>\n",
       "      <td>1.0</td>\n",
       "      <td>No</td>\n",
       "      <td>No</td>\n",
       "      <td>No</td>\n",
       "      <td>I don't know</td>\n",
       "      <td>Neither easy nor difficult</td>\n",
       "      <td>Maybe</td>\n",
       "      <td>No</td>\n",
       "      <td>...</td>\n",
       "      <td>0</td>\n",
       "      <td>0</td>\n",
       "      <td>0</td>\n",
       "      <td>0</td>\n",
       "      <td>0</td>\n",
       "      <td>0</td>\n",
       "      <td>0</td>\n",
       "      <td>0</td>\n",
       "      <td>0</td>\n",
       "      <td>0</td>\n",
       "    </tr>\n",
       "    <tr>\n",
       "      <th>3</th>\n",
       "      <td>1</td>\n",
       "      <td>1</td>\n",
       "      <td>0.5</td>\n",
       "      <td>N/A</td>\n",
       "      <td>N/A</td>\n",
       "      <td>N/A</td>\n",
       "      <td>N/A</td>\n",
       "      <td>N/A</td>\n",
       "      <td>N/A</td>\n",
       "      <td>N/A</td>\n",
       "      <td>...</td>\n",
       "      <td>0</td>\n",
       "      <td>0</td>\n",
       "      <td>0</td>\n",
       "      <td>0</td>\n",
       "      <td>1</td>\n",
       "      <td>0</td>\n",
       "      <td>1</td>\n",
       "      <td>0</td>\n",
       "      <td>0</td>\n",
       "      <td>0</td>\n",
       "    </tr>\n",
       "    <tr>\n",
       "      <th>4</th>\n",
       "      <td>0</td>\n",
       "      <td>6-25</td>\n",
       "      <td>0.0</td>\n",
       "      <td>Yes</td>\n",
       "      <td>No</td>\n",
       "      <td>No</td>\n",
       "      <td>No</td>\n",
       "      <td>Neither easy nor difficult</td>\n",
       "      <td>Yes</td>\n",
       "      <td>Maybe</td>\n",
       "      <td>...</td>\n",
       "      <td>0</td>\n",
       "      <td>0</td>\n",
       "      <td>0</td>\n",
       "      <td>0</td>\n",
       "      <td>1</td>\n",
       "      <td>0</td>\n",
       "      <td>0</td>\n",
       "      <td>0</td>\n",
       "      <td>0</td>\n",
       "      <td>0</td>\n",
       "    </tr>\n",
       "    <tr>\n",
       "      <th>...</th>\n",
       "      <td>...</td>\n",
       "      <td>...</td>\n",
       "      <td>...</td>\n",
       "      <td>...</td>\n",
       "      <td>...</td>\n",
       "      <td>...</td>\n",
       "      <td>...</td>\n",
       "      <td>...</td>\n",
       "      <td>...</td>\n",
       "      <td>...</td>\n",
       "      <td>...</td>\n",
       "      <td>...</td>\n",
       "      <td>...</td>\n",
       "      <td>...</td>\n",
       "      <td>...</td>\n",
       "      <td>...</td>\n",
       "      <td>...</td>\n",
       "      <td>...</td>\n",
       "      <td>...</td>\n",
       "      <td>...</td>\n",
       "      <td>...</td>\n",
       "    </tr>\n",
       "    <tr>\n",
       "      <th>1428</th>\n",
       "      <td>1</td>\n",
       "      <td>1</td>\n",
       "      <td>0.5</td>\n",
       "      <td>N/A</td>\n",
       "      <td>N/A</td>\n",
       "      <td>N/A</td>\n",
       "      <td>N/A</td>\n",
       "      <td>N/A</td>\n",
       "      <td>N/A</td>\n",
       "      <td>N/A</td>\n",
       "      <td>...</td>\n",
       "      <td>0</td>\n",
       "      <td>0</td>\n",
       "      <td>0</td>\n",
       "      <td>0</td>\n",
       "      <td>0</td>\n",
       "      <td>0</td>\n",
       "      <td>0</td>\n",
       "      <td>0</td>\n",
       "      <td>0</td>\n",
       "      <td>0</td>\n",
       "    </tr>\n",
       "    <tr>\n",
       "      <th>1429</th>\n",
       "      <td>1</td>\n",
       "      <td>1</td>\n",
       "      <td>0.5</td>\n",
       "      <td>N/A</td>\n",
       "      <td>N/A</td>\n",
       "      <td>N/A</td>\n",
       "      <td>N/A</td>\n",
       "      <td>N/A</td>\n",
       "      <td>N/A</td>\n",
       "      <td>N/A</td>\n",
       "      <td>...</td>\n",
       "      <td>0</td>\n",
       "      <td>0</td>\n",
       "      <td>0</td>\n",
       "      <td>0</td>\n",
       "      <td>0</td>\n",
       "      <td>0</td>\n",
       "      <td>0</td>\n",
       "      <td>0</td>\n",
       "      <td>0</td>\n",
       "      <td>0</td>\n",
       "    </tr>\n",
       "    <tr>\n",
       "      <th>1430</th>\n",
       "      <td>0</td>\n",
       "      <td>100-500</td>\n",
       "      <td>1.0</td>\n",
       "      <td>Yes</td>\n",
       "      <td>Yes</td>\n",
       "      <td>Yes</td>\n",
       "      <td>I don't know</td>\n",
       "      <td>Somewhat difficult</td>\n",
       "      <td>Maybe</td>\n",
       "      <td>Maybe</td>\n",
       "      <td>...</td>\n",
       "      <td>0</td>\n",
       "      <td>0</td>\n",
       "      <td>0</td>\n",
       "      <td>0</td>\n",
       "      <td>1</td>\n",
       "      <td>0</td>\n",
       "      <td>1</td>\n",
       "      <td>0</td>\n",
       "      <td>0</td>\n",
       "      <td>0</td>\n",
       "    </tr>\n",
       "    <tr>\n",
       "      <th>1431</th>\n",
       "      <td>0</td>\n",
       "      <td>100-500</td>\n",
       "      <td>0.0</td>\n",
       "      <td>I don't know</td>\n",
       "      <td>No</td>\n",
       "      <td>Yes</td>\n",
       "      <td>I don't know</td>\n",
       "      <td>Somewhat difficult</td>\n",
       "      <td>Maybe</td>\n",
       "      <td>No</td>\n",
       "      <td>...</td>\n",
       "      <td>0</td>\n",
       "      <td>0</td>\n",
       "      <td>0</td>\n",
       "      <td>0</td>\n",
       "      <td>0</td>\n",
       "      <td>0</td>\n",
       "      <td>1</td>\n",
       "      <td>0</td>\n",
       "      <td>0</td>\n",
       "      <td>0</td>\n",
       "    </tr>\n",
       "    <tr>\n",
       "      <th>1432</th>\n",
       "      <td>0</td>\n",
       "      <td>100-500</td>\n",
       "      <td>1.0</td>\n",
       "      <td>Yes</td>\n",
       "      <td>No</td>\n",
       "      <td>No</td>\n",
       "      <td>I don't know</td>\n",
       "      <td>Very difficult</td>\n",
       "      <td>Maybe</td>\n",
       "      <td>No</td>\n",
       "      <td>...</td>\n",
       "      <td>0</td>\n",
       "      <td>0</td>\n",
       "      <td>0</td>\n",
       "      <td>0</td>\n",
       "      <td>0</td>\n",
       "      <td>0</td>\n",
       "      <td>0</td>\n",
       "      <td>0</td>\n",
       "      <td>0</td>\n",
       "      <td>0</td>\n",
       "    </tr>\n",
       "  </tbody>\n",
       "</table>\n",
       "<p>1433 rows × 97 columns</p>\n",
       "</div>"
      ],
      "text/plain": [
       "      is_self_employed num_employees  is_tech_company  \\\n",
       "0                    0        26-100              1.0   \n",
       "1                    0          6-25              1.0   \n",
       "2                    0          6-25              1.0   \n",
       "3                    1             1              0.5   \n",
       "4                    0          6-25              0.0   \n",
       "...                ...           ...              ...   \n",
       "1428                 1             1              0.5   \n",
       "1429                 1             1              0.5   \n",
       "1430                 0       100-500              1.0   \n",
       "1431                 0       100-500              0.0   \n",
       "1432                 0       100-500              1.0   \n",
       "\n",
       "      provides_mental_health_benefits has_discussed_mental_health  \\\n",
       "0     Not eligible for coverage / N/A                          No   \n",
       "1                                  No                         Yes   \n",
       "2                                  No                          No   \n",
       "3                                 N/A                         N/A   \n",
       "4                                 Yes                          No   \n",
       "...                               ...                         ...   \n",
       "1428                              N/A                         N/A   \n",
       "1429                              N/A                         N/A   \n",
       "1430                              Yes                         Yes   \n",
       "1431                     I don't know                          No   \n",
       "1432                              Yes                          No   \n",
       "\n",
       "     offers_mental_health_resources is_anonymity_protected  \\\n",
       "0                                No           I don't know   \n",
       "1                               Yes                    Yes   \n",
       "2                                No           I don't know   \n",
       "3                               N/A                    N/A   \n",
       "4                                No                     No   \n",
       "...                             ...                    ...   \n",
       "1428                            N/A                    N/A   \n",
       "1429                            N/A                    N/A   \n",
       "1430                            Yes           I don't know   \n",
       "1431                            Yes           I don't know   \n",
       "1432                             No           I don't know   \n",
       "\n",
       "     ease_of_leave_for_mental_health mental_health_discussion_consequences  \\\n",
       "0                          Very easy                                    No   \n",
       "1                      Somewhat easy                                    No   \n",
       "2         Neither easy nor difficult                                 Maybe   \n",
       "3                                N/A                                   N/A   \n",
       "4         Neither easy nor difficult                                   Yes   \n",
       "...                              ...                                   ...   \n",
       "1428                             N/A                                   N/A   \n",
       "1429                             N/A                                   N/A   \n",
       "1430              Somewhat difficult                                 Maybe   \n",
       "1431              Somewhat difficult                                 Maybe   \n",
       "1432                  Very difficult                                 Maybe   \n",
       "\n",
       "     physical_health_discussion_consequences  ... m_other m_dissociative  \\\n",
       "0                                         No  ...       0              0   \n",
       "1                                         No  ...       0              0   \n",
       "2                                         No  ...       0              0   \n",
       "3                                        N/A  ...       0              0   \n",
       "4                                      Maybe  ...       0              0   \n",
       "...                                      ...  ...     ...            ...   \n",
       "1428                                     N/A  ...       0              0   \n",
       "1429                                     N/A  ...       0              0   \n",
       "1430                                   Maybe  ...       0              0   \n",
       "1431                                      No  ...       0              0   \n",
       "1432                                      No  ...       0              0   \n",
       "\n",
       "     pro_adhd pro_addictive  pro_anxiety_stress pro_autism_develop  \\\n",
       "0           0             0                   1                  0   \n",
       "1           0             0                   1                  0   \n",
       "2           0             0                   0                  0   \n",
       "3           0             0                   1                  0   \n",
       "4           0             0                   1                  0   \n",
       "...       ...           ...                 ...                ...   \n",
       "1428        0             0                   0                  0   \n",
       "1429        0             0                   0                  0   \n",
       "1430        0             0                   1                  0   \n",
       "1431        0             0                   0                  0   \n",
       "1432        0             0                   0                  0   \n",
       "\n",
       "     pro_mood_disorder pro_ptsd pro_personality pro_other  \n",
       "0                    0        0               0         0  \n",
       "1                    1        0               0         0  \n",
       "2                    0        0               0         0  \n",
       "3                    1        0               0         0  \n",
       "4                    0        0               0         0  \n",
       "...                ...      ...             ...       ...  \n",
       "1428                 0        0               0         0  \n",
       "1429                 0        0               0         0  \n",
       "1430                 1        0               0         0  \n",
       "1431                 1        0               0         0  \n",
       "1432                 0        0               0         0  \n",
       "\n",
       "[1433 rows x 97 columns]"
      ]
     },
     "execution_count": 61,
     "metadata": {},
     "output_type": "execute_result"
    }
   ],
   "source": [
    "df"
   ]
  },
  {
   "cell_type": "code",
   "execution_count": 62,
   "metadata": {},
   "outputs": [],
   "source": [
    "#encode work position\n",
    "\n",
    "s= df['work_position'].str.split('|', expand=True).stack()\n",
    "\n",
    "s.index =s.index.droplevel(-1)\n",
    "\n",
    "df_exploded = pd.get_dummies(s).groupby(level=0).sum()\n",
    "\n",
    "df = pd.concat([df,df_exploded],axis=1)\n"
   ]
  },
  {
   "cell_type": "code",
   "execution_count": 63,
   "metadata": {},
   "outputs": [],
   "source": [
    "rename_dict = {\n",
    "    'Back-end Developer': 'back_end_developer',\n",
    "    'Designer' : 'designer',\n",
    "    'Dev Evangelist/Advocate' : 'dev_evangelist_advocate',\n",
    "    'DevOps/SysAdmin': 'devops_sysadmin',\n",
    "    'Executive Leadership': 'executive_leadership',\n",
    "    'Front-end Developer': 'front_end_developer',\n",
    "    'HR': 'hr_rep',\n",
    "    'One-person shop' : 'one_person_shop',\n",
    "    'Other' : 'other_job_description',\n",
    "    'Sales' : 'sales_rep',\n",
    "    'Supervisor/Team Lead' : 'supervisor_team_lead',\n",
    "    'Support' : 'support_rep'\n",
    "\n",
    "}\n",
    "\n",
    "df.rename(columns=rename_dict,inplace=True)"
   ]
  },
  {
   "cell_type": "code",
   "execution_count": 64,
   "metadata": {},
   "outputs": [],
   "source": [
    "df.drop(columns = ['work_position'],inplace=True, axis=1)"
   ]
  },
  {
   "cell_type": "code",
   "execution_count": 65,
   "metadata": {},
   "outputs": [
    {
     "data": {
      "text/html": [
       "<div>\n",
       "<style scoped>\n",
       "    .dataframe tbody tr th:only-of-type {\n",
       "        vertical-align: middle;\n",
       "    }\n",
       "\n",
       "    .dataframe tbody tr th {\n",
       "        vertical-align: top;\n",
       "    }\n",
       "\n",
       "    .dataframe thead th {\n",
       "        text-align: right;\n",
       "    }\n",
       "</style>\n",
       "<table border=\"1\" class=\"dataframe\">\n",
       "  <thead>\n",
       "    <tr style=\"text-align: right;\">\n",
       "      <th></th>\n",
       "      <th>0</th>\n",
       "    </tr>\n",
       "  </thead>\n",
       "  <tbody>\n",
       "    <tr>\n",
       "      <th>If you have revealed a mental health issue to a client or business contact, do you believe this has impacted you negatively?</th>\n",
       "      <td>89.951151</td>\n",
       "    </tr>\n",
       "    <tr>\n",
       "      <th>If yes, what percentage of your work time (time performing primary or secondary job functions) is affected by a mental health issue?</th>\n",
       "      <td>85.764131</td>\n",
       "    </tr>\n",
       "    <tr>\n",
       "      <th>Do you have medical coverage (private insurance or state-provided) which includes treatment of  mental health issues?</th>\n",
       "      <td>79.972087</td>\n",
       "    </tr>\n",
       "    <tr>\n",
       "      <th>Do you believe your productivity is ever affected by a mental health issue?</th>\n",
       "      <td>79.972087</td>\n",
       "    </tr>\n",
       "    <tr>\n",
       "      <th>If you have revealed a mental health issue to a coworker or employee, do you believe this has impacted you negatively?</th>\n",
       "      <td>79.972087</td>\n",
       "    </tr>\n",
       "    <tr>\n",
       "      <th>...</th>\n",
       "      <td>...</td>\n",
       "    </tr>\n",
       "    <tr>\n",
       "      <th>team_view_negatively_mental_health</th>\n",
       "      <td>0.000000</td>\n",
       "    </tr>\n",
       "    <tr>\n",
       "      <th>identified_mental_health_impact_career</th>\n",
       "      <td>0.000000</td>\n",
       "    </tr>\n",
       "    <tr>\n",
       "      <th>willing_discuss_mental_health_in_interview</th>\n",
       "      <td>0.000000</td>\n",
       "    </tr>\n",
       "    <tr>\n",
       "      <th>willing_discuss_physical_health_in_interview</th>\n",
       "      <td>0.000000</td>\n",
       "    </tr>\n",
       "    <tr>\n",
       "      <th>support_rep</th>\n",
       "      <td>0.000000</td>\n",
       "    </tr>\n",
       "  </tbody>\n",
       "</table>\n",
       "<p>108 rows × 1 columns</p>\n",
       "</div>"
      ],
      "text/plain": [
       "                                                            0\n",
       "If you have revealed a mental health issue to a...  89.951151\n",
       "If yes, what percentage of your work time (time...  85.764131\n",
       "Do you have medical coverage (private insurance...  79.972087\n",
       "Do you believe your productivity is ever affect...  79.972087\n",
       "If you have revealed a mental health issue to a...  79.972087\n",
       "...                                                       ...\n",
       "team_view_negatively_mental_health                   0.000000\n",
       "identified_mental_health_impact_career               0.000000\n",
       "willing_discuss_mental_health_in_interview           0.000000\n",
       "willing_discuss_physical_health_in_interview         0.000000\n",
       "support_rep                                          0.000000\n",
       "\n",
       "[108 rows x 1 columns]"
      ]
     },
     "execution_count": 65,
     "metadata": {},
     "output_type": "execute_result"
    }
   ],
   "source": [
    "null_perc = pd.DataFrame(df.isnull().sum()/df.shape[0]*100)\n",
    "null_perc = null_perc.sort_values(by=0, ascending=False)\n",
    "null_perc"
   ]
  },
  {
   "cell_type": "code",
   "execution_count": 66,
   "metadata": {},
   "outputs": [
    {
     "data": {
      "text/plain": [
       "array(['United Kingdom', 'United States of America', 'Canada', 'Germany',\n",
       "       'Netherlands', 'Czech Republic', 'Lithuania', 'Australia',\n",
       "       'France', 'Venezuela', 'Poland', 'Belgium', 'Brazil', 'Denmark',\n",
       "       'Sweden', 'Russia', 'Spain', 'India', 'United Arab Emirates',\n",
       "       'Mexico', 'Switzerland', 'Norway', 'Argentina', 'Ireland', 'Italy',\n",
       "       'Finland', 'Turkey', 'Colombia', 'Costa Rica', 'Vietnam',\n",
       "       'Bulgaria', 'New Zealand', 'South Africa', 'Slovakia', 'Austria',\n",
       "       'Bangladesh', 'Pakistan', 'Afghanistan', 'Greece', 'Other',\n",
       "       'Romania', 'Brunei', 'Iran', 'Hungary', 'Israel', 'Japan',\n",
       "       'Ecuador', 'Bosnia and Herzegovina', 'China', 'Chile', 'Guatemala',\n",
       "       'Serbia', 'Estonia'], dtype=object)"
      ]
     },
     "execution_count": 66,
     "metadata": {},
     "output_type": "execute_result"
    }
   ],
   "source": [
    "df['country_of_work'].unique()"
   ]
  },
  {
   "cell_type": "code",
   "execution_count": 67,
   "metadata": {},
   "outputs": [],
   "source": [
    "#ISO 3166-1 alpha-2 country codes\n",
    "country_abbreviations = {\n",
    "    'United Kingdom': 'GB',\n",
    "    'United States of America': 'US',\n",
    "    'Canada': 'CA',\n",
    "    'Germany': 'DE',\n",
    "    'Netherlands': 'NL',\n",
    "    'Czech Republic': 'CZ',\n",
    "    'Lithuania': 'LT',\n",
    "    'Australia': 'AU',\n",
    "    'France': 'FR',\n",
    "    'Venezuela': 'VE',\n",
    "    'Poland': 'PL',\n",
    "    'Belgium': 'BE',\n",
    "    'Brazil': 'BR',\n",
    "    'Denmark': 'DK',\n",
    "    'Sweden': 'SE',\n",
    "    'Russia': 'RU',\n",
    "    'Spain': 'ES',\n",
    "    'India': 'IN',\n",
    "    'Mexico': 'MX',\n",
    "    'Switzerland': 'CH',\n",
    "    'Norway': 'NO',\n",
    "    'Argentina': 'AR',\n",
    "    'Ireland': 'IE',\n",
    "    'Italy': 'IT',\n",
    "    'Finland': 'FI',\n",
    "    'Colombia': 'CO',\n",
    "    'Costa Rica': 'CR',\n",
    "    'Vietnam': 'VN',\n",
    "    'Bulgaria': 'BG',\n",
    "    'New Zealand': 'NZ',\n",
    "    'South Africa': 'ZA',\n",
    "    'Slovakia': 'SK',\n",
    "    'Austria': 'AT',\n",
    "    'Bangladesh': 'BD',\n",
    "    'Algeria': 'DZ',\n",
    "    'Pakistan': 'PK',\n",
    "    'Afghanistan': 'AF',\n",
    "    'Greece': 'GR',\n",
    "    'Romania': 'RO',\n",
    "    'Other': 'Other',  \n",
    "    'Brunei': 'BN',\n",
    "    'Japan': 'JP',\n",
    "    'Iran': 'IR',\n",
    "    'Hungary': 'HU',\n",
    "    'Israel': 'IL',\n",
    "    'Ecuador': 'EC',\n",
    "    'Bosnia and Herzegovina': 'BA',\n",
    "    'China': 'CN',\n",
    "    'Chile': 'CL',\n",
    "    'Guatemala': 'GT',\n",
    "    'Taiwan': 'TW',\n",
    "    'Serbia': 'RS',\n",
    "    'Estonia': 'EE'\n",
    "}\n",
    "\n",
    "df['country_of_residence'] = df['country_of_residence'].replace(country_abbreviations)"
   ]
  },
  {
   "cell_type": "code",
   "execution_count": 68,
   "metadata": {},
   "outputs": [],
   "source": [
    "#ISO 3166-1 alpha-2 country codes\n",
    "country_abbreviations = {\n",
    "    'United Kingdom': 'GB',\n",
    "    'United States of America': 'US',\n",
    "    'Canada': 'CA',\n",
    "    'Germany': 'DE',\n",
    "    'Netherlands': 'NL',\n",
    "    'Czech Republic': 'CZ',\n",
    "    'Lithuania': 'LT',\n",
    "    'Australia': 'AU',\n",
    "    'France': 'FR',\n",
    "    'Venezuela': 'VE',\n",
    "    'Poland': 'PL',\n",
    "    'Belgium': 'BE',\n",
    "    'Brazil': 'BR',\n",
    "    'Denmark': 'DK',\n",
    "    'Sweden': 'SE',\n",
    "    'Russia': 'RU',\n",
    "    'Spain': 'ES',\n",
    "    'India': 'IN',\n",
    "    'Mexico': 'MX',\n",
    "    'Switzerland': 'CH',\n",
    "    'Norway': 'NO',\n",
    "    'Argentina': 'AR',\n",
    "    'Ireland': 'IE',\n",
    "    'Italy': 'IT',\n",
    "    'Finland': 'FI',\n",
    "    'Colombia': 'CO',\n",
    "    'Costa Rica': 'CR',\n",
    "    'Vietnam': 'VN',\n",
    "    'Bulgaria': 'BG',\n",
    "    'New Zealand': 'NZ',\n",
    "    'South Africa': 'ZA',\n",
    "    'Slovakia': 'SK',\n",
    "    'Austria': 'AT',\n",
    "    'Bangladesh': 'BD',\n",
    "    'Algeria': 'DZ',\n",
    "    'Pakistan': 'PK',\n",
    "    'Afghanistan': 'AF',\n",
    "    'Greece': 'GR',\n",
    "    'Romania': 'RO',\n",
    "    'Other': 'Other',  \n",
    "    'Brunei': 'BN',\n",
    "    'Japan': 'JP',\n",
    "    'Iran': 'IR',\n",
    "    'Hungary': 'HU',\n",
    "    'Israel': 'IL',\n",
    "    'Ecuador': 'EC',\n",
    "    'Bosnia and Herzegovina': 'BA',\n",
    "    'China': 'CN',\n",
    "    'Chile': 'CL',\n",
    "    'Guatemala': 'GT',\n",
    "    'Taiwan': 'TW',\n",
    "    'Serbia': 'RS',\n",
    "    'Estonia': 'EE'\n",
    "}\n",
    "\n",
    "df['country_of_work'] = df['country_of_work'].replace(country_abbreviations)"
   ]
  },
  {
   "cell_type": "code",
   "execution_count": 69,
   "metadata": {},
   "outputs": [],
   "source": [
    "rename_dict = {\n",
    "    'Do you know local or online resources to seek help for a mental health disorder?': 'knows_mental_health_resources',\n",
    "    'Do you have medical coverage (private insurance or state-provided) which includes treatment of  mental health issues?': 'has_medical_coverage_for_mental_health',\n",
    "    'If you have been diagnosed or treated for a mental health disorder, do you ever reveal this to clients or business contacts?': 'reveals_mental_health_to_clients',\n",
    "    'If you have revealed a mental health issue to a client or business contact, do you believe this has impacted you negatively?': 'impact_of_revealing_to_clients',\n",
    "    'If you have revealed a mental health issue to a coworker or employee, do you believe this has impacted you negatively?': 'impact_of_revealing_to_coworkers',\n",
    "    'If you have been diagnosed or treated for a mental health disorder, do you ever reveal this to coworkers or employees?': 'reveals_mental_health_to_coworkers',\n",
    "    'Do you believe your productivity is ever affected by a mental health issue?': 'mental_health_impacts_productivity',\n",
    "    'If yes, what percentage of your work time (time performing primary or secondary job functions) is affected by a mental health issue?': 'percentage_work_time_affected_by_mental_health',\n",
    "    'Do you have medical coverage (private insurance or state-provided) which includes treatment of  mental health issues?' : 'medical_coverage_mental_health'\n",
    "}\n",
    "\n",
    "df.rename(columns=rename_dict,inplace=True)"
   ]
  },
  {
   "cell_type": "code",
   "execution_count": 70,
   "metadata": {},
   "outputs": [],
   "source": [
    "df['gender'] = df['gender'].replace(['male', 'Male ', 'Man', 'M|', 'Cis male', 'male ', 'Cis Male', 'cis man', 'Dude','man', 'cis male'], 'Male')\n",
    "\n",
    "df['gender'] = df['gender'].replace(['Female', 'female ', 'Female ', 'F', 'Woman', 'Cis female ', 'Female ', 'Cisgender Female'], 'Female')\n",
    "\n",
    "df['gender'] = df['gender'].replace(['Male (trans, FtM)', 'Transgender', 'mtf', 'fm', 'fem'], 'Transgender')\n",
    "\n",
    "df['gender'] = df['gender'].replace(['Non-Binary', 'genderqueer', 'Other', 'none of your business', 'Human', 'Other', 'cisdude', 'human', 'Unicorn', 'male 9:1 female, roughly', 'genderqueer woman'], 'Non-Binary')\n",
    "\n",
    "df['gender'] = df['gender'].str.strip()\n",
    "\n",
    "df['gender'] = df['gender'].replace(['female', 'Female ', 'F', 'Woman', 'cis female', 'Cisgender Female' ], 'Female')"
   ]
  },
  {
   "cell_type": "code",
   "execution_count": 71,
   "metadata": {},
   "outputs": [],
   "source": [
    "df['gender'] = df['gender'].replace(['M', 'm', 'Male.', 'Malr', 'Male (cis)', 'Male/genderqueer', 'mail', 'MALE', 'Sex is male', \"I\\'m a man why didn\\'t you make this a drop down question. You should of asked sex? And I would of answered yes please. Seriously how much text can this take?\"], 'Male')\n",
    "\n",
    "df['gender'] = df['gender'].replace(['female', 'f', 'Cis female', 'Female or Multi-Gender Femme', 'Female assigned at birth', 'woman', 'female/woman', 'Female (props for making this a freeform field, though)', 'Female.', 'Cis-woman', 'AFAB', 'Fem'], 'Female')\n",
    "\n",
    "df['gender'] = df['gender'].replace(['Bigender', 'non-binary', 'nb masculine', 'Genderfluid (born female)', 'Genderfluid', 'Enby', 'genderqueer', 'Queer', 'Androgynous', 'Fluid', 'Genderqueer', 'Genderflux demi-girl', 'female-bodied; no feelings about gender', 'Agender', 'Nonbinary'], 'Non-Binary')\n",
    "\n",
    "df['gender'] = df['gender'].replace(['Transgender','Non-Binary', 'Transitioned, M2F','Other/Transfeminine','Transgender woman', 'I identify as female', 'Female assigned at birth', 'I identify as female.'], 'Non-Binary/Other')\n",
    "\n"
   ]
  },
  {
   "cell_type": "code",
   "execution_count": 72,
   "metadata": {},
   "outputs": [],
   "source": [
    "most_common_gender = df['gender'].mode()[0]\n",
    "df['gender'].fillna(most_common_gender, inplace=True)"
   ]
  },
  {
   "cell_type": "code",
   "execution_count": 73,
   "metadata": {},
   "outputs": [
    {
     "name": "stdout",
     "output_type": "stream",
     "text": [
      "['Male' 'Female' 'Non-Binary/Other']\n",
      "gender\n",
      "Male                1060\n",
      "Female               337\n",
      "Non-Binary/Other      36\n",
      "Name: count, dtype: int64\n"
     ]
    }
   ],
   "source": [
    "print(df['gender'].unique())\n",
    "print(df['gender'].value_counts())"
   ]
  },
  {
   "cell_type": "code",
   "execution_count": 74,
   "metadata": {},
   "outputs": [],
   "source": [
    "rename_dict = {\n",
    "    'What US state or territory do you work in?' : 'US_state_work',\n",
    "    'What US state or territory do you live in?' : 'US_state_live'\n",
    "}\n",
    "df.rename(columns = rename_dict, inplace = True)"
   ]
  },
  {
   "cell_type": "code",
   "execution_count": 75,
   "metadata": {},
   "outputs": [],
   "source": [
    "# ISO 3166-1 alpha-2 country codes\n",
    "country_abbreviations = {\n",
    "    'Turkey' : 'TR',\n",
    "    'United Arab Emirates' : 'AE'\n",
    "}\n",
    "\n",
    "df['country_of_work'] = df['country_of_work'].replace(country_abbreviations)\n"
   ]
  },
  {
   "cell_type": "code",
   "execution_count": 76,
   "metadata": {},
   "outputs": [],
   "source": [
    "#subset for self employed respondents\n",
    "#df_self_employ = df[df['is_self_employed']== 1]\n",
    "#df_self_employ.head()\n",
    "\n",
    "#This next subset will be used to opinion mine using NLP the reasons for why or why not to dislose physical conditons with employer during interview \n",
    "#mask = df['why_physical'].notnull()\n",
    "#df_opinion_physical = df.loc[mask]\n",
    "#df_opinion_physical.head()\n",
    "\n",
    "#This next subset will be used to opinion mine using NLP the reasons for why or why not to dislose mental conditons with employer during interview \n",
    "#mask = df['why_mental'].notnull()\n",
    "#df_opinion_mental = df.loc[mask]\n",
    "#df_opinion_mental.head()\n",
    "\n",
    "#filtered_df = df[(~df['why_physical'].isnull()) & (~df['why_mental'].isnull())]\n",
    "\n",
    "#value counts and null sum for all features\n",
    "#output_text = \"\"\n",
    "#for column in df.columns:\n",
    "#    output_text += f\"Feature: {column}\\n\"\n",
    "#    output_text += f\"{df[column].value_counts(dropna=False)}\\n\"\n",
    "#    output_text += f\"Null Count: {df[column].isnull().sum()}\\n\\n\"\n",
    "#with open('counts.txt', 'w') as file:\n",
    "#    file.write(output_text)\n",
    "\n",
    "#null_perc = pd.DataFrame(df.isnull().sum()/df.shape[0]*100)\n",
    "#null_perc = null_perc.sort_values(by=0, ascending=False)\n",
    "#null_perc\n",
    "\n",
    "#Since 59.39% respondents work in USA, Create new filtered DataFrame.\n",
    "#df_usa = df[df['country_of_work']=='US'] \n",
    "#df_usa\n",
    "\n"
   ]
  },
  {
   "cell_type": "code",
   "execution_count": 77,
   "metadata": {},
   "outputs": [],
   "source": [
    "#Subset : Global\n",
    "#Purpose: Providing demographic and job-related information for analysis.\n",
    "#Insights:\n",
    "#This subset offers a comprehensive view of mental health-related factors on a global scale, including demographic and job-related variables.\n",
    "#Understanding the prevalence and impact of mental health issues across different demographics and job types can inform targeted interventions and policies.\n",
    "\n",
    "global_columns = [\n",
    "    # Mental Health-related Features\n",
    "    'family_history_mental_illness',\n",
    "    'had_mental_health_disorder_past',\n",
    "    'diagnosed_by_professional',\n",
    "    'sought_mental_health_treatment',\n",
    "    'interference_with_work_when_treated',\n",
    "    'interference_with_work_when_not_treated',\n",
    "    'currently_has_mental_health_disorder',\n",
    "    # Diagnosis Columns\n",
    "    'y__dissociative', 'y_eating', 'y_no_diagnosis', 'y_ocd', 'y_psychotic',\n",
    "    'm_adhd', 'm_eating', 'm_mood_disorder', 'm_no_diagnosis', 'm_ocd', 'm_personality', 'm_ptsd', 'm_psychotic',\n",
    "    'pro_dissociative', 'pro_eating', 'pro_no_diagnosis', 'pro_ocd', 'pro_psychotic',\n",
    "    'y_addictive', 'y_anxiety_stress', 'y_mood_disorder', 'y_autism_develop', 'y_other', 'y_ptsd', 'y_adhd', 'y_personality',\n",
    "    'm_addictive', 'm_anxiety_stress', 'm_autism_develop', 'm_other', 'm_dissociative',\n",
    "    'pro_adhd', 'pro_addictive', 'pro_anxiety_stress', 'pro_autism_develop', 'pro_mood_disorder', 'pro_ptsd', 'pro_personality', 'pro_other',\n",
    "    # Job-related Features\n",
    "    'num_employees', 'is_tech_company', 'age', 'gender',\n",
    "    'country_of_residence', 'country_of_work', 'works_remotely',\n",
    "    'back_end_developer', 'designer', 'dev_evangelist_advocate', 'devops_sysadmin', 'executive_leadership',\n",
    "    'front_end_developer', 'hr_rep', 'one_person_shop', 'other_job_description', 'sales_rep', 'supervisor_team_lead', 'support_rep','is_self_employed',\n",
    "    # Additional Features\n",
    "    'willing_discuss_mental_health_in_interview',\n",
    "    'willing_discuss_physical_health_in_interview',\n",
    "    'has_previous_employers'\n",
    "]\n",
    "\n",
    "df_global_subset = df[global_columns].copy()\n",
    "df_global_subset.to_excel('global_subset.xlsx')\n"
   ]
  },
  {
   "cell_type": "code",
   "execution_count": 78,
   "metadata": {},
   "outputs": [],
   "source": [
    "#Subset 6: USA \n",
    "#Purpose: Providing demographic and job-related information for analysis.\n",
    "#Insights:\n",
    "#This subset focuses on understanding mental health factors within the specific context of the USA, including state-level variations.\n",
    "#Analysis of demographic and job-related variables within the USA can inform localized strategies and interventions to address mental health challenges.\n",
    "\n",
    "df_usa_subset = df[df['country_of_work'] == 'US']\n",
    "\n",
    "usa_columns = [\n",
    "    # Demographic and Job-related Features\n",
    "    'num_employees', 'is_tech_company', 'age', 'gender', 'country_of_residence',\n",
    "    'works_remotely', 'US_state_work', 'US_state_live','is_self_employed',\n",
    "    # Job-related columns\n",
    "    'back_end_developer', 'designer', 'dev_evangelist_advocate', 'devops_sysadmin',\n",
    "    'executive_leadership', 'front_end_developer', 'hr_rep', 'one_person_shop',\n",
    "    'other_job_description', 'sales_rep', 'supervisor_team_lead', 'support_rep',\n",
    "    # Mental Health-related Features\n",
    "    'family_history_mental_illness', 'had_mental_health_disorder_past',\n",
    "    'diagnosed_by_professional', 'sought_mental_health_treatment',\n",
    "    'interference_with_work_when_treated', 'interference_with_work_when_not_treated',\n",
    "    'currently_has_mental_health_disorder',\n",
    "    # Diagnosis Columns\n",
    "    'y__dissociative', 'y_eating', 'y_no_diagnosis', 'y_ocd', 'y_psychotic',\n",
    "    'm_adhd', 'm_eating', 'm_mood_disorder', 'm_no_diagnosis', 'm_ocd', 'm_personality', 'm_ptsd', 'm_psychotic',\n",
    "    'pro_dissociative', 'pro_eating', 'pro_no_diagnosis', 'pro_ocd', 'pro_psychotic',\n",
    "    'y_addictive', 'y_anxiety_stress', 'y_mood_disorder', 'y_autism_develop', 'y_other', 'y_ptsd', 'y_adhd', 'y_personality',\n",
    "    'm_addictive', 'm_anxiety_stress', 'm_autism_develop', 'm_other', 'm_dissociative',\n",
    "    'pro_adhd', 'pro_addictive', 'pro_anxiety_stress', 'pro_autism_develop', 'pro_mood_disorder', 'pro_ptsd', 'pro_personality', 'pro_other',\n",
    "    # Additional Features\n",
    "    'willing_discuss_mental_health_in_interview',\n",
    "    'willing_discuss_physical_health_in_interview',\n",
    "    'has_previous_employers'\n",
    "]\n",
    "\n",
    "df_usa_subset = df_usa_subset[usa_columns].copy()\n",
    "\n",
    "df_usa_subset.to_excel('usa_subset.xlsx')"
   ]
  },
  {
   "cell_type": "code",
   "execution_count": 79,
   "metadata": {},
   "outputs": [],
   "source": [
    "#Subset : Previous Employment Context\n",
    "#Purpose: Understanding the impact of previous employment on mental health.\n",
    "#Insights:\n",
    "#Previous employment experiences can significantly influence individuals' mental health and attitudes towards seeking support.\n",
    "#Examining factors like previous employer attitudes towards mental health and observed consequences in the workplace can inform strategies to address mental health stigma and improve support mechanisms.\n",
    "\n",
    "\n",
    "previous_employers_columns = [\n",
    "    # Mental Health-related Features\n",
    "    'previous_employers_mental_health_benefits', 'aware_of_mental_health_care_options_previous',\n",
    "    'previous_employers_discussed_mental_health', 'previous_employers_offered_mental_health_resources',\n",
    "    'anonymity_protected_previous_employers', 'mental_health_discussion_consequences_previous',\n",
    "    'physical_health_discussion_consequences_previous', 'willing_discuss_mental_health_previous_coworkers',\n",
    "    'willing_discuss_mental_health_previous_supervisor', 'previous_employers_valued_mental_equal_physical',\n",
    "    'observed_neg_consequences_previous_workplaces', 'has_previous_employers',\n",
    "    # Demographic and Job-related Features\n",
    "    'num_employees', 'is_tech_company', 'age', 'gender', 'country_of_residence',\n",
    "    'works_remotely', 'country_of_work', 'is_self_employed',\n",
    "    # Job-related columns\n",
    "    'back_end_developer', 'designer', 'dev_evangelist_advocate', 'devops_sysadmin',\n",
    "    'executive_leadership', 'front_end_developer', 'hr_rep', 'one_person_shop',\n",
    "    'other_job_description', 'sales_rep', 'supervisor_team_lead', 'support_rep',\n",
    "    # Mental Health-related Features Continued\n",
    "    'family_history_mental_illness', 'had_mental_health_disorder_past',\n",
    "    'diagnosed_by_professional', 'sought_mental_health_treatment',\n",
    "    'interference_with_work_when_treated', 'interference_with_work_when_not_treated',\n",
    "    'currently_has_mental_health_disorder',\n",
    "    # Diagnosis Columns\n",
    "    'y__dissociative', 'y_eating', 'y_no_diagnosis', 'y_ocd', 'y_psychotic',\n",
    "    'm_adhd', 'm_eating', 'm_mood_disorder', 'm_no_diagnosis', 'm_ocd', 'm_personality', 'm_ptsd', 'm_psychotic',\n",
    "    'pro_dissociative', 'pro_eating', 'pro_no_diagnosis', 'pro_ocd', 'pro_psychotic',\n",
    "    'y_addictive', 'y_anxiety_stress', 'y_mood_disorder', 'y_autism_develop', 'y_other', 'y_ptsd', 'y_adhd', 'y_personality',\n",
    "    'm_addictive', 'm_anxiety_stress', 'm_autism_develop', 'm_other', 'm_dissociative',\n",
    "    'pro_adhd', 'pro_addictive', 'pro_anxiety_stress', 'pro_autism_develop', 'pro_mood_disorder', 'pro_ptsd', 'pro_personality', 'pro_other',\n",
    "    # Additional Features\n",
    "    'willing_discuss_mental_health_in_interview',\n",
    "    'willing_discuss_physical_health_in_interview',\n",
    "]\n",
    "\n",
    "df_previous_employers_subset = df[df['has_previous_employers'] == 1]\n",
    "\n",
    "df_previous_employers_subset = df_previous_employers_subset[previous_employers_columns]\n",
    "\n",
    "df_previous_employers_subset.to_excel('previous_employers_subset.xlsx')"
   ]
  },
  {
   "cell_type": "code",
   "execution_count": 80,
   "metadata": {},
   "outputs": [],
   "source": [
    "#Subset : Employment Mental Health Context\n",
    "#Purpose: Analyzing mental health context for employed individuals.\n",
    "#Insights:\n",
    "#Employed individuals may face unique challenges related to workplace culture and support for mental health.\n",
    "#Exploring factors like provision of mental health benefits and ease of discussing mental health with coworkers and supervisors can highlight areas for organizational improvement to foster a supportive work environment.\n",
    "\n",
    "employment_context_columns = [\n",
    "    # Mental Health-related Features\n",
    "    'provides_mental_health_benefits', 'has_discussed_mental_health', 'offers_mental_health_resources',\n",
    "    'is_anonymity_protected', 'ease_of_leave_for_mental_health', 'mental_health_discussion_consequences',\n",
    "    'physical_health_discussion_consequences', 'comfort_discussing_mental_health_with_coworkers',\n",
    "    'comfort_discussing_mental_health_with_supervisor', 'employer_values_mental_equal_physical',\n",
    "    'observed_neg_consequences_for_coworkers',\n",
    "    # Demographic and Job-related Features\n",
    "    'num_employees', 'is_tech_company', 'age', 'gender', 'country_of_residence', 'works_remotely', 'country_of_work','is_self_employed',\n",
    "    # Job-related columns\n",
    "    'back_end_developer', 'designer', 'dev_evangelist_advocate', 'devops_sysadmin', 'executive_leadership',\n",
    "    'front_end_developer', 'hr_rep', 'one_person_shop', 'other_job_description', 'sales_rep', 'supervisor_team_lead',\n",
    "    'support_rep',\n",
    "    # Mental Health-related Features Continued\n",
    "    'family_history_mental_illness', 'had_mental_health_disorder_past', 'diagnosed_by_professional',\n",
    "    'sought_mental_health_treatment', 'interference_with_work_when_treated', 'interference_with_work_when_not_treated',\n",
    "    'currently_has_mental_health_disorder',\n",
    "    # Diagnosis Columns\n",
    "    'y__dissociative', 'y_eating', 'y_no_diagnosis', 'y_ocd', 'y_psychotic', 'm_adhd', 'm_eating', 'm_mood_disorder',\n",
    "    'm_no_diagnosis', 'm_ocd', 'm_personality', 'm_ptsd', 'm_psychotic', 'pro_dissociative', 'pro_eating',\n",
    "    'pro_no_diagnosis', 'pro_ocd', 'pro_psychotic', 'y_addictive', 'y_anxiety_stress', 'y_mood_disorder',\n",
    "    'y_autism_develop', 'y_other', 'y_ptsd', 'y_adhd', 'y_personality', 'm_addictive', 'm_anxiety_stress',\n",
    "    'm_autism_develop', 'm_other', 'm_dissociative', 'pro_adhd', 'pro_addictive', 'pro_anxiety_stress',\n",
    "    'pro_autism_develop', 'pro_mood_disorder', 'pro_ptsd', 'pro_personality', 'pro_other',\n",
    "    # Additional Features\n",
    "    'willing_discuss_mental_health_in_interview',\n",
    "    'willing_discuss_physical_health_in_interview',\n",
    "    'has_previous_employers'\n",
    "]\n",
    "\n",
    "df_employed = df[df['is_self_employed']==0]\n",
    "\n",
    "df_employed = df_employed[employment_context_columns].copy()\n",
    "\n",
    "df_employed.to_excel('employed_subset.xlsx')"
   ]
  },
  {
   "cell_type": "code",
   "execution_count": 81,
   "metadata": {},
   "outputs": [],
   "source": [
    "#Subset : Self-Employment Mental Health Context\n",
    "#Purpose: Analyzing mental health context for self-employed individuals.\n",
    "#Insights:\n",
    "#Self-employed individuals often lack traditional workplace support structures, making understanding their mental health context crucial.\n",
    "#Factors such as access to mental health resources and the impact of disclosure on productivity can inform interventions to support the mental well-being of self-employed individuals.\n",
    "\n",
    "self_employment_context_columns = [\n",
    "    # Mental Health-related Features\n",
    "    'medical_coverage_mental_health', 'knows_mental_health_resources', 'reveals_mental_health_to_clients',\n",
    "    'impact_of_revealing_to_clients', 'reveals_mental_health_to_coworkers', 'impact_of_revealing_to_coworkers',\n",
    "    'mental_health_impacts_productivity', 'percentage_work_time_affected_by_mental_health',\n",
    "    'currently_has_mental_health_disorder',\n",
    "    # Demographic and Job-related Features\n",
    "    'num_employees', 'is_tech_company', 'age', 'gender', 'country_of_residence', 'country_of_work',\n",
    "    'works_remotely','is_self_employed',\n",
    "    # Job-related columns\n",
    "    'back_end_developer', 'designer', 'dev_evangelist_advocate', 'devops_sysadmin', 'executive_leadership',\n",
    "    'front_end_developer', 'hr_rep', 'one_person_shop', 'other_job_description', 'sales_rep', 'supervisor_team_lead',\n",
    "    'support_rep',\n",
    "    # Mental Health-related Features Continued\n",
    "    'family_history_mental_illness', 'had_mental_health_disorder_past', 'diagnosed_by_professional',\n",
    "    'sought_mental_health_treatment', 'interference_with_work_when_treated', 'interference_with_work_when_not_treated',\n",
    "    'currently_has_mental_health_disorder',\n",
    "    # Diagnosis Columns\n",
    "    'y__dissociative', 'y_eating', 'y_no_diagnosis', 'y_ocd', 'y_psychotic', 'm_adhd', 'm_eating', 'm_mood_disorder',\n",
    "    'm_no_diagnosis', 'm_ocd', 'm_personality', 'm_ptsd', 'm_psychotic', 'pro_dissociative', 'pro_eating',\n",
    "    'pro_no_diagnosis', 'pro_ocd', 'pro_psychotic', 'y_addictive', 'y_anxiety_stress', 'y_mood_disorder',\n",
    "    'y_autism_develop', 'y_other', 'y_ptsd', 'y_adhd', 'y_personality', 'm_addictive', 'm_anxiety_stress',\n",
    "    'm_autism_develop', 'm_other', 'm_dissociative', 'pro_adhd', 'pro_addictive', 'pro_anxiety_stress',\n",
    "    'pro_autism_develop', 'pro_mood_disorder', 'pro_ptsd', 'pro_personality', 'pro_other',\n",
    "    # Additional Features\n",
    "    'willing_discuss_mental_health_in_interview',\n",
    "    'willing_discuss_physical_health_in_interview',\n",
    "    'has_previous_employers'\n",
    "]\n",
    "\n",
    "df_self_employed = df[df['is_self_employed'] == 1]\n",
    "\n",
    "df_self_employed = df_self_employed[self_employment_context_columns].copy()\n",
    "\n",
    "df_self_employed.to_excel('self_employed_subset.xlsx')\n"
   ]
  },
  {
   "cell_type": "code",
   "execution_count": 82,
   "metadata": {},
   "outputs": [],
   "source": [
    "#Subset : Opinion Mining on Mental and Physical Health Discussion\n",
    "#Purpose: Analyzing attitudes towards discussing physical and mental health in interviews.\n",
    "#Insights:\n",
    "#Understanding individuals' willingness to discuss physical and mental health in interviews can provide insights into their openness and perceived stigma surrounding these topics.\n",
    "#Identification of factors influencing attitudes, such as perceived career impact and observed responses, can help tailor support systems and initiatives within organizations.\n",
    "\n",
    "\n",
    "opinion_mining_columns = ['why_physical', 'why_mental',\n",
    "                    'willing_discuss_physical_health_in_interview',\n",
    "                    'willing_discuss_mental_health_in_interview',\n",
    "                    'identified_mental_health_impact_career',\n",
    "                    'team_view_negatively_mental_health',\n",
    "                    'willing_share_mental_health_with_friends_family',\n",
    "                    'observed_bad_mental_health_response',\n",
    "                    'less_likely_to_reveal_due_to_observation',\n",
    "                    ]\n",
    "\n",
    "df_opinion_mine = df[(~df['why_mental'].isnull()) & (~df['why_physical'].isnull())]\n",
    "\n",
    "df_opinion_mine = df_opinion_mine[opinion_mining_columns].copy()\n",
    "\n",
    "df_opinion_mine.to_excel('opinion_mine_subset.xlsx')\n"
   ]
  },
  {
   "cell_type": "code",
   "execution_count": 84,
   "metadata": {},
   "outputs": [],
   "source": [
    "df.to_excel('to_encode.xlsx')"
   ]
  },
  {
   "cell_type": "code",
   "execution_count": null,
   "metadata": {},
   "outputs": [],
   "source": []
  }
 ],
 "metadata": {
  "kernelspec": {
   "display_name": "da311",
   "language": "python",
   "name": "python3"
  },
  "language_info": {
   "codemirror_mode": {
    "name": "ipython",
    "version": 3
   },
   "file_extension": ".py",
   "mimetype": "text/x-python",
   "name": "python",
   "nbconvert_exporter": "python",
   "pygments_lexer": "ipython3",
   "version": "3.11.7"
  }
 },
 "nbformat": 4,
 "nbformat_minor": 2
}
